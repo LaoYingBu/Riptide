{
 "cells": [
  {
   "cell_type": "code",
   "execution_count": 1,
   "metadata": {},
   "outputs": [
    {
     "name": "stderr",
     "output_type": "stream",
     "text": [
      "/opt/conda/envs/riptide-py3.6/lib/python3.6/site-packages/h5py/__init__.py:36: FutureWarning: Conversion of the second argument of issubdtype from `float` to `np.floating` is deprecated. In future, it will be treated as `np.float64 == np.dtype(float).type`.\n",
      "  from ._conv import register_converters as _register_converters\n"
     ]
    }
   ],
   "source": [
    "import tensorflow as tf\n",
    "import tensorflow.contrib.eager as tfe\n",
    "import numpy as np\n",
    "\n",
    "tf.enable_eager_execution()\n",
    "\n",
    "from preprocessing import inception_preprocessing\n",
    "from riptide.data import *\n",
    "import functools"
   ]
  },
  {
   "cell_type": "code",
   "execution_count": 2,
   "metadata": {},
   "outputs": [],
   "source": [
    "config = tf.ConfigProto()\n",
    "config.gpu_options.allow_growth=True\n",
    "sess = tf.Session(config=config)"
   ]
  },
  {
   "cell_type": "code",
   "execution_count": 3,
   "metadata": {},
   "outputs": [],
   "source": [
    "preprocess = functools.partial(inception_preprocessing.preprocess_image, height=224, width=224, is_training=False)"
   ]
  },
  {
   "cell_type": "code",
   "execution_count": 4,
   "metadata": {},
   "outputs": [],
   "source": [
    "test_dataset = tfrecord_dataset(\"/data3/imagenet/tfrecords/\", \"validation\", workers =8 , preprocess=preprocess, batch_size=128)"
   ]
  },
  {
   "cell_type": "code",
   "execution_count": 5,
   "metadata": {},
   "outputs": [],
   "source": [
    "from tensorflow.python.keras.applications.mobilenet import MobileNet\n",
    "with tf.device(\"/gpu:0\"):\n",
    "    model = MobileNet(weights='imagenet')"
   ]
  },
  {
   "cell_type": "code",
   "execution_count": 6,
   "metadata": {},
   "outputs": [
    {
     "name": "stdout",
     "output_type": "stream",
     "text": [
      "Step: 0, Time: 2.430743\n",
      "Step: 10, Time: 10.231152\n",
      "Step: 20, Time: 6.623213\n",
      "Step: 30, Time: 6.245371\n",
      "Step: 40, Time: 5.822717\n",
      "Step: 50, Time: 6.322187\n",
      "Step: 60, Time: 6.282770\n",
      "Step: 70, Time: 6.628311\n",
      "Step: 80, Time: 6.199964\n",
      "Step: 90, Time: 6.663820\n",
      "Step: 100, Time: 6.421217\n",
      "Step: 110, Time: 5.955291\n",
      "Step: 120, Time: 6.579030\n",
      "Step: 130, Time: 7.056465\n",
      "Step: 140, Time: 6.693200\n",
      "Step: 150, Time: 6.573330\n",
      "Step: 160, Time: 6.780476\n",
      "Step: 170, Time: 6.468194\n",
      "Step: 180, Time: 6.450308\n",
      "Step: 190, Time: 6.563369\n",
      "Step: 200, Time: 5.679453\n",
      "Step: 210, Time: 6.650946\n",
      "Step: 220, Time: 7.112564\n",
      "Step: 230, Time: 5.786616\n",
      "Step: 240, Time: 6.510375\n",
      "Step: 250, Time: 5.848001\n",
      "Step: 260, Time: 6.767656\n",
      "Step: 270, Time: 6.781676\n",
      "Step: 280, Time: 6.551093\n",
      "Step: 290, Time: 7.075602\n",
      "Step: 300, Time: 6.378075\n",
      "Step: 310, Time: 6.093412\n",
      "Step: 320, Time: 6.060715\n",
      "Step: 330, Time: 6.328262\n",
      "Step: 340, Time: 7.123041\n",
      "Step: 350, Time: 6.546756\n",
      "Step: 360, Time: 6.712474\n",
      "Step: 370, Time: 6.266687\n",
      "Step: 380, Time: 6.129007\n",
      "Step: 390, Time: 2.282485\n",
      "253.67607045173645\n"
     ]
    }
   ],
   "source": [
    "# test read speed\n",
    "import time\n",
    "start = time.time()\n",
    "current = time.time()\n",
    "with tf.device(\"/gpu:0\"):\n",
    "    for i, (data, label) in enumerate(tfe.Iterator(test_dataset)):\n",
    "        z = model(data)\n",
    "        if i %10 ==0:\n",
    "            get = time.time()\n",
    "            print(\"Step: %d, Time: %f\" % (i, get - current))\n",
    "            current = get\n",
    "    print(current - start)"
   ]
  },
  {
   "cell_type": "code",
   "execution_count": 8,
   "metadata": {},
   "outputs": [],
   "source": [
    "def evaluate(model, iterator, k=1):\n",
    "    metric = tfe.metrics.Mean()\n",
    "    for i, (data, label) in enumerate(iterator):\n",
    "        with tf.device(\"/gpu:0\"):\n",
    "            z = model(data)\n",
    "        metric(tf.cast(tf.nn.in_top_k(z.cpu(), tf.squeeze(label.cpu())-1, k=5), tf.float32))\n",
    "        if i%10 == 0:\n",
    "            print(i)\n",
    "    print(metric.value())"
   ]
  },
  {
   "cell_type": "code",
   "execution_count": null,
   "metadata": {},
   "outputs": [],
   "source": [
    "evaluate(model, tfe.Iterator(test_iterator))"
   ]
  },
  {
   "cell_type": "code",
   "execution_count": null,
   "metadata": {},
   "outputs": [],
   "source": []
  }
 ],
 "metadata": {
  "kernelspec": {
   "display_name": "Python 3",
   "language": "python",
   "name": "python3"
  },
  "language_info": {
   "codemirror_mode": {
    "name": "ipython",
    "version": 3
   },
   "file_extension": ".py",
   "mimetype": "text/x-python",
   "name": "python",
   "nbconvert_exporter": "python",
   "pygments_lexer": "ipython3",
   "version": "3.6.5"
  }
 },
 "nbformat": 4,
 "nbformat_minor": 2
}
