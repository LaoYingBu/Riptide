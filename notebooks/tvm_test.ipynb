{
 "cells": [
  {
   "cell_type": "code",
   "execution_count": 1,
   "metadata": {},
   "outputs": [],
   "source": [
    "import numpy as np\n",
    "import tvm\n",
    "import topi\n",
    "import topi.testing\n",
    "from topi.util import get_const_tuple\n",
    "from tvm.contrib.pickle_memoize import memoize"
   ]
  },
  {
   "cell_type": "code",
   "execution_count": 11,
   "metadata": {},
   "outputs": [],
   "source": [
    "def generate_quantized_np(shape, bits, out_dtype):\n",
    "    min_val = 0\n",
    "    max_val = 1 << bits\n",
    "    return np.random.randint(min_val, max_val, size=shape).astype(out_dtype)\n",
    "\n",
    "def verify_bitserial_conv2d_nchw(batch, in_size, in_channel, num_filter, kernel, stride, padding, \n",
    "    activation_bits, weight_bits, dorefa):\n",
    "    in_height = in_width = in_size\n",
    "    input_type = 'uint32'\n",
    "    out_dtype = 'int32'\n",
    "\n",
    "    with tvm.target.create('llvm'):\n",
    "        A = tvm.placeholder((batch, in_channel, in_height, in_width), dtype=input_type, name='A')\n",
    "        W = tvm.placeholder((num_filter, in_channel, kernel, kernel), dtype=input_type, name='W')\n",
    "        C = tvm.placeholder((4,), dtype='float32', name='C')\n",
    "        B = topi.nn.bitserial_conv2d(A, W, stride, padding, activation_bits, weight_bits, \n",
    "                                     out_dtype=out_dtype, layout=\"NCHW\", dorefa=dorefa, clusters=C)\n",
    "        s = topi.generic.schedule_bitserial_conv2d_nchw([B])\n",
    "\n",
    "    a_shape = get_const_tuple(A.shape)\n",
    "    w_shape = get_const_tuple(W.shape)\n",
    "\n",
    "    @memoize(\"topi.tests.test_topi_bitseral_conv2d_nchw\")\n",
    "    def get_ref_data():\n",
    "        a_np = generate_quantized_np(get_const_tuple(a_shape), activation_bits, input_type)\n",
    "        w_np = generate_quantized_np(get_const_tuple(w_shape), weight_bits, input_type)\n",
    "        if dorefa:\n",
    "            w_ = np.copy(w_np).astype(out_dtype)\n",
    "            for x in np.nditer(w_, op_flags=['readwrite']):\n",
    "                x[...] = 1 if x == 1 else -1\n",
    "            b_np = topi.testing.conv2d_nchw_python(a_np.astype(out_dtype), w_, stride, padding)\n",
    "        else:\n",
    "            b_np = topi.testing.conv2d_nchw_python(a_np, w_np, stride, padding)\n",
    "        return a_np, w_np, b_np\n",
    "    a_np, w_np, b_np = get_ref_data()\n",
    "    c_np = np.array([1., 2., 3., 4.], dtype=np.float32)\n",
    "\n",
    "    ctx = tvm.cpu(0)\n",
    "    a = tvm.nd.array(a_np, ctx)\n",
    "    w = tvm.nd.array(w_np, ctx)\n",
    "    c = tvm.nd.array(c_np, ctx)\n",
    "    b = tvm.nd.array(np.zeros(get_const_tuple(B.shape), dtype=B.dtype), ctx)\n",
    "    func = tvm.build(s, [A, W, C, B], \"llvm\")\n",
    "    func(a, w, c, b)\n",
    "    np.testing.assert_allclose(b.asnumpy(), b_np, rtol=1e-5)"
   ]
  },
  {
   "cell_type": "code",
   "execution_count": 12,
   "metadata": {},
   "outputs": [],
   "source": [
    "in_size = 56\n",
    "ic, oc = 64, 64\n",
    "k = 3\n",
    "stride = 1\n",
    "pad = 1"
   ]
  },
  {
   "cell_type": "code",
   "execution_count": 13,
   "metadata": {},
   "outputs": [
    {
     "data": {
      "text/plain": [
       "array([[[[  7.,   5.,  21., ...,  17.,  29.,  14.],\n",
       "         [  6.,  14.,  24., ...,  34.,  24.,  -3.],\n",
       "         [ 21.,  16.,  17., ..., -10.,   3., -19.],\n",
       "         ...,\n",
       "         [ 12.,  15.,  20., ...,   3.,  17.,   2.],\n",
       "         [ -8.,  25.,  13., ...,  27.,  11.,   6.],\n",
       "         [ 10.,   7.,   2., ...,   3.,   0.,  -5.]],\n",
       "\n",
       "        [[ 21.,  15.,  -5., ...,  -3.,   3.,   6.],\n",
       "         [ 12.,  -8.,  -8., ...,  12.,  14.,  -7.],\n",
       "         [ 11.,   2., -13., ...,   8., -15., -11.],\n",
       "         ...,\n",
       "         [  0.,  -1.,  -2., ...,  17.,  11.,  22.],\n",
       "         [ -4.,   9., -15., ...,  -9.,   5.,   8.],\n",
       "         [  0.,  -7.,  16., ...,  -9., -18.,   3.]],\n",
       "\n",
       "        [[ -9., -13.,  -1., ..., -13.,   3.,  10.],\n",
       "         [-16.,   2.,  10., ..., -10., -18.,  -5.],\n",
       "         [ 11., -16.,   1., ..., -20., -17., -11.],\n",
       "         ...,\n",
       "         [-10.,  -5.,  12., ...,   9.,  11.,  -4.],\n",
       "         [-18.,  -5.,  -3., ..., -23.,  -7.,   8.],\n",
       "         [ -2., -13., -24., ..., -11., -20.,  -7.]],\n",
       "\n",
       "        ...,\n",
       "\n",
       "        [[ -1.,  -1.,  19., ...,   7., -11.,   0.],\n",
       "         [  2.,  28.,  20., ...,  16.,  -8.,  -3.],\n",
       "         [ 11.,  -2.,  29., ...,  16.,  -7., -21.],\n",
       "         ...,\n",
       "         [  2.,  13.,  18., ...,  21.,   7.,  -6.],\n",
       "         [  4.,   9.,  13., ...,  23.,  31., -14.],\n",
       "         [  6.,  15.,   6., ...,   9.,   0.,  -5.]],\n",
       "\n",
       "        [[ 17.,  13.,   7., ...,  15.,  11.,   0.],\n",
       "         [ 18.,  20.,  38., ...,  10.,  32.,  17.],\n",
       "         [  1.,  24.,  31., ...,  20.,  15.,  15.],\n",
       "         ...,\n",
       "         [ 16.,  39.,  10., ...,  29.,   9.,   8.],\n",
       "         [ -8.,   1.,  17., ...,  15.,   5.,  12.],\n",
       "         [ -2.,  11.,   0., ...,   1.,  14.,  -3.]],\n",
       "\n",
       "        [[-11.,  -3.,   1., ...,  -9.,  15.,  -2.],\n",
       "         [ 10.,   8.,  14., ..., -14.,  16., -15.],\n",
       "         [  3.,   0.,  11., ..., -10.,  -7., -21.],\n",
       "         ...,\n",
       "         [ 22.,  -3.,  -2., ..., -17.,  11., -18.],\n",
       "         [ 18.,  15.,   5., ...,   1.,  -9., -12.],\n",
       "         [ 14.,   1.,  14., ...,  25., -10., -11.]]]], dtype=float32)"
      ]
     },
     "execution_count": 13,
     "metadata": {},
     "output_type": "execute_result"
    }
   ],
   "source": [
    "verify_bitserial_conv2d_nchw(1, in_size, ic, oc, k, stride, pad, 1, 1, True)"
   ]
  },
  {
   "cell_type": "code",
   "execution_count": null,
   "metadata": {},
   "outputs": [],
   "source": []
  }
 ],
 "metadata": {
  "kernelspec": {
   "display_name": "Python 2",
   "language": "python",
   "name": "python2"
  },
  "language_info": {
   "codemirror_mode": {
    "name": "ipython",
    "version": 2
   },
   "file_extension": ".py",
   "mimetype": "text/x-python",
   "name": "python",
   "nbconvert_exporter": "python",
   "pygments_lexer": "ipython2",
   "version": "2.7.15rc1"
  }
 },
 "nbformat": 4,
 "nbformat_minor": 2
}
