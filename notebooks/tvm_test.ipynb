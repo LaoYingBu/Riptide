{
 "cells": [
  {
   "cell_type": "code",
   "execution_count": 1,
   "metadata": {},
   "outputs": [],
   "source": [
    "import numpy as np\n",
    "\n",
    "import tvm\n",
    "from tvm import rpc\n",
    "from tvm.contrib import util\n",
    "\n",
    "n = tvm.convert(1024)\n",
    "A = tvm.placeholder((n,), name='A')\n",
    "B = tvm.compute((n,), lambda i: A[i] + 1.0, name='B')\n",
    "s = tvm.create_schedule(B.op)"
   ]
  },
  {
   "cell_type": "code",
   "execution_count": 6,
   "metadata": {},
   "outputs": [],
   "source": [
    "local_demo = False\n",
    "\n",
    "if local_demo:\n",
    "    target = 'llvm'\n",
    "else:\n",
    "    target = 'llvm -target=armv7l-linux-gnueabihf'\n",
    "\n",
    "func = tvm.build(s, [A, B], target=target, name='add_one')\n",
    "# save the lib at a local temp folder\n",
    "temp = util.tempdir()\n",
    "path = temp.relpath('lib.tar')\n",
    "func.export_library(path)"
   ]
  },
  {
   "cell_type": "code",
   "execution_count": 7,
   "metadata": {},
   "outputs": [],
   "source": [
    "if local_demo:\n",
    "    remote = rpc.LocalSession()\n",
    "else:\n",
    "    # The following is my environment, change this to the IP address of your target device\n",
    "    host = 'jwfromm-rpi'\n",
    "    port = 9091\n",
    "    remote = rpc.connect(host, port)"
   ]
  },
  {
   "cell_type": "code",
   "execution_count": 8,
   "metadata": {},
   "outputs": [],
   "source": [
    "remote.upload(path)\n",
    "func = remote.load_module('lib.tar')\n",
    "\n",
    "# create arrays on the remote device\n",
    "ctx = remote.cpu()\n",
    "a = tvm.nd.array(np.random.uniform(size=1024).astype(A.dtype), ctx)\n",
    "b = tvm.nd.array(np.zeros(1024, dtype=A.dtype), ctx)\n",
    "# the function will run on the remote device\n",
    "func(a, b)\n",
    "np.testing.assert_equal(b.asnumpy(), a.asnumpy() + 1)"
   ]
  },
  {
   "cell_type": "code",
   "execution_count": 9,
   "metadata": {},
   "outputs": [
    {
     "name": "stdout",
     "output_type": "stream",
     "text": [
      "3.268e-07 secs/op\n"
     ]
    }
   ],
   "source": [
    "time_f = func.time_evaluator(func.entry_name, ctx, number=10)\n",
    "cost = time_f(a, b).mean\n",
    "print('%g secs/op' % cost)"
   ]
  },
  {
   "cell_type": "code",
   "execution_count": null,
   "metadata": {},
   "outputs": [],
   "source": []
  }
 ],
 "metadata": {
  "kernelspec": {
   "display_name": "Python 3",
   "language": "python",
   "name": "python3"
  },
  "language_info": {
   "codemirror_mode": {
    "name": "ipython",
    "version": 3
   },
   "file_extension": ".py",
   "mimetype": "text/x-python",
   "name": "python",
   "nbconvert_exporter": "python",
   "pygments_lexer": "ipython3",
   "version": "3.6.7"
  }
 },
 "nbformat": 4,
 "nbformat_minor": 2
}
