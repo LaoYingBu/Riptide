{
 "cells": [
  {
   "cell_type": "code",
   "execution_count": 1,
   "metadata": {},
   "outputs": [],
   "source": [
    "import tvm\n",
    "import numpy as np\n",
    "from tvm import relay\n",
    "from tvm import autotvm\n",
    "import tvm.contrib.graph_runtime as runtime"
   ]
  },
  {
   "cell_type": "code",
   "execution_count": 2,
   "metadata": {},
   "outputs": [],
   "source": [
    "x = relay.var('x', shape=[1, 32, 32, 32], dtype='int16')\n",
    "w = relay.var('w', shape=[32, 32, 3, 3], dtype='int16')\n",
    "\n",
    "y = relay.nn.conv2d(x, w, kernel_size=[3,3], data_layout='NCHW', binarize=True, out_dtype='int16')\n",
    "y_func = relay.Function([x, w], y)"
   ]
  },
  {
   "cell_type": "code",
   "execution_count": 3,
   "metadata": {},
   "outputs": [
    {
     "name": "stderr",
     "output_type": "stream",
     "text": [
      "Cannot find config for target=llvm, workload=('bitserial_conv2d_nchw', (1, 32, 32, 32, 'int16'), (32, 32, 3, 3, 'int16'), (1, 1), (0, 0), 1, 1, 'uint32', 'int16', 1). A fallback configuration is used, which may bring great performance regression.\n"
     ]
    }
   ],
   "source": [
    "w_np = np.random.normal(size=[32, 32, 3, 3]).astype('int16')\n",
    "params = {'w': w_np}\n",
    "with relay.build_config(opt_level=0):\n",
    "    graph, lib, params = relay.build_module.build(y_func, target='llvm', params=params)"
   ]
  },
  {
   "cell_type": "code",
   "execution_count": 4,
   "metadata": {},
   "outputs": [],
   "source": [
    "module = runtime.create(graph, lib, tvm.context('llvm', 0))\n",
    "module.set_input('x', np.random.uniform(size=(1, 32, 32, 32)).astype('int16'))\n",
    "module.set_input(**params)"
   ]
  },
  {
   "cell_type": "code",
   "execution_count": 5,
   "metadata": {},
   "outputs": [],
   "source": [
    "module.run()\n",
    "output = module.get_output(0)"
   ]
  },
  {
   "cell_type": "code",
   "execution_count": null,
   "metadata": {},
   "outputs": [],
   "source": []
  }
 ],
 "metadata": {
  "kernelspec": {
   "display_name": "Python 3",
   "language": "python",
   "name": "python3"
  },
  "language_info": {
   "codemirror_mode": {
    "name": "ipython",
    "version": 3
   },
   "file_extension": ".py",
   "mimetype": "text/x-python",
   "name": "python",
   "nbconvert_exporter": "python",
   "pygments_lexer": "ipython3",
   "version": "3.6.7"
  }
 },
 "nbformat": 4,
 "nbformat_minor": 2
}
