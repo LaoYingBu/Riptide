{
 "cells": [
  {
   "cell_type": "code",
   "execution_count": 1,
   "metadata": {},
   "outputs": [],
   "source": [
    "import tvm\n",
    "from tvm import relay\n",
    "from tvm import autotvm\n",
    "import tvm.contrib.graph_runtime as runtime\n",
    "from tvm.contrib import util\n",
    "from tvm.contrib.util import tempdir\n",
    "import numpy as np"
   ]
  },
  {
   "cell_type": "code",
   "execution_count": 2,
   "metadata": {},
   "outputs": [],
   "source": [
    "target = tvm.target.arm_cpu(\"rasp3b\")\n",
    "target_host = 'llvm -device=arm_cpu -target=arm-linux-gnueabihf -mattr=+neon'\n",
    "\n",
    "#target = 'llvm'"
   ]
  },
  {
   "cell_type": "code",
   "execution_count": 3,
   "metadata": {},
   "outputs": [],
   "source": [
    "x = relay.var('x', shape=[1, 224, 224, 32], dtype='int16')\n",
    "#w = relay.var('w', shape=[32, 32, 3, 3], dtype='int16')\n",
    "#w_np = np.random.normal(size=[32, 32, 3, 3]).astype('float32').astype('int16')\n",
    "w = relay.var('w', shape=[1, 1, 32, 32], dtype='int16')\n",
    "#w = relay.var('w', dtype='int16')\n",
    "w_np = np.random.normal(size=[1, 1, 32, 32]).astype('int16')\n",
    "x_np = np.random.normal(size=[1, 224, 224, 32]).astype('int16')\n",
    "\n",
    "#y = relay.nn.conv2d(x, w, data_layout='NHWC', kernel_size=[3, 3], kernel_layout='OIHW')\n",
    "bpw = relay.nn.bitpack(w, bit_axis=2, pack_axis=2, bits=1, pack_type='uint8')\n",
    "#bpw = relay.nn.bitpack(w, bits=1, pack_axis=2, bit_axis=4, pack_type='uint8')\n",
    "#y = relay.nn.bitserial_conv2d(x, bpw, data_layout='NHWC', kernel_size=[1, 1], channels=32, pack_dtype='uint8', kernel_layout='HWIO')\n",
    "y = relay.nn.conv2d(x, w, data_layout='NHWC', kernel_size=[1, 1], channels=32, kernel_layout='HWIO')\n",
    "y_func = relay.Function([x, w], y)"
   ]
  },
  {
   "cell_type": "code",
   "execution_count": 4,
   "metadata": {},
   "outputs": [
    {
     "name": "stdout",
     "output_type": "stream",
     "text": [
      "v0.0.3\n",
      "free_var %x: Tensor[(1, 224, 224, 32), int16]\n",
      "free_var %w: Tensor[(1, 1, 32, 32), int16]\n",
      "nn.conv2d(%x, %w, channels=32, kernel_size=[1, 1], data_layout=\"NHWC\", kernel_layout=\"HWIO\")\n"
     ]
    }
   ],
   "source": [
    "print(y_func.body)"
   ]
  },
  {
   "cell_type": "code",
   "execution_count": 5,
   "metadata": {},
   "outputs": [
    {
     "name": "stderr",
     "output_type": "stream",
     "text": [
      "Cannot find config for target=llvm -device=arm_cpu -model=bcm2837 -target=armv7l-linux-gnueabihf -mattr=+neon, workload=('conv2d', (1, 224, 224, 32, 'int16'), (1, 1, 32, 32, 'int16'), (1, 1), (0, 0), (1, 1), 'NHWC', 'int16'). A fallback configuration is used, which may bring great performance regression.\n"
     ]
    }
   ],
   "source": [
    "params = {'w': w_np}\n",
    "with relay.build_config(opt_level=3):\n",
    "    graph, lib, params = relay.build_module.build(y_func, target=target, params=params)"
   ]
  },
  {
   "cell_type": "code",
   "execution_count": 6,
   "metadata": {},
   "outputs": [],
   "source": [
    "tmp = util.tempdir()\n",
    "lib_fname = tmp.relpath('net.tar')\n",
    "lib.export_library(lib_fname)"
   ]
  },
  {
   "cell_type": "code",
   "execution_count": 7,
   "metadata": {},
   "outputs": [],
   "source": [
    "remote = autotvm.measure.request_remote(\n",
    "    'rpi3b', 'fleet.cs.washington.edu', 9190, timeout=10000)\n",
    "#remote = tvm.rpc.LocalSession()"
   ]
  },
  {
   "cell_type": "code",
   "execution_count": 8,
   "metadata": {},
   "outputs": [],
   "source": [
    "# upload the library to remote device and load it\n",
    "remote.upload(lib_fname)\n",
    "rlib = remote.load_module('net.tar')\n",
    "\n",
    "# create the remote runtime module\n",
    "ctx = remote.cpu(0)\n",
    "module = runtime.create(graph, rlib, ctx)\n",
    "# set parameter (upload params to the remote device. This may take a while)\n",
    "module.set_input(**params)"
   ]
  },
  {
   "cell_type": "code",
   "execution_count": 9,
   "metadata": {},
   "outputs": [],
   "source": [
    "module.set_input('x', x_np)\n",
    "module.run()"
   ]
  },
  {
   "cell_type": "code",
   "execution_count": 10,
   "metadata": {},
   "outputs": [
    {
     "name": "stdout",
     "output_type": "stream",
     "text": [
      "Evaluate inference time cost...\n",
      "Mean inference time (std dev): 9.35 ms (0.00 ms)\n"
     ]
    }
   ],
   "source": [
    " # Evaluate\n",
    "print(\"Evaluate inference time cost...\")\n",
    "ftimer = module.module.time_evaluator(\"run\", ctx, number=10, repeat=1)\n",
    "prof_res = np.array(ftimer().results) * 1000  # Convert to milliseconds\n",
    "print(\"Mean inference time (std dev): %.2f ms (%.2f ms)\" %\n",
    "      (np.mean(prof_res), np.std(prof_res)))"
   ]
  },
  {
   "cell_type": "code",
   "execution_count": null,
   "metadata": {},
   "outputs": [],
   "source": []
  },
  {
   "cell_type": "code",
   "execution_count": null,
   "metadata": {},
   "outputs": [],
   "source": []
  }
 ],
 "metadata": {
  "kernelspec": {
   "display_name": "Python 3",
   "language": "python",
   "name": "python3"
  },
  "language_info": {
   "codemirror_mode": {
    "name": "ipython",
    "version": 3
   },
   "file_extension": ".py",
   "mimetype": "text/x-python",
   "name": "python",
   "nbconvert_exporter": "python",
   "pygments_lexer": "ipython3",
   "version": "3.6.7"
  }
 },
 "nbformat": 4,
 "nbformat_minor": 2
}
