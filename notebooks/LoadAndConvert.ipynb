{
 "cells": [
  {
   "cell_type": "code",
   "execution_count": 1,
   "metadata": {},
   "outputs": [],
   "source": [
    "import tensorflow as tf\n",
    "import os\n",
    "from riptide.binary.binary_funcs import *\n",
    "from riptide.binary.binary_layers import Config\n",
    "from riptide.binary.models.q_cifar_resnet import cifar_resnet20_v1\n",
    "#tf.enable_eager_execution()"
   ]
  },
  {
   "cell_type": "code",
   "execution_count": 2,
   "metadata": {},
   "outputs": [],
   "source": [
    "os.environ['CUDA_VISIBLE_DEVICES'] = ''"
   ]
  },
  {
   "cell_type": "code",
   "execution_count": 3,
   "metadata": {},
   "outputs": [],
   "source": [
    "actQ = DQuantize\n",
    "weightQ = XQuantize\n",
    "config = Config(actQ=actQ, weightQ=weightQ, bits=2.0)\n",
    "with config:\n",
    "    model = cifar_resnet20_v1()"
   ]
  },
  {
   "cell_type": "code",
   "execution_count": 8,
   "metadata": {},
   "outputs": [
    {
     "data": {
      "text/plain": [
       "<DeferredTensor 'None' shape=(1, 10) dtype=float32>"
      ]
     },
     "execution_count": 8,
     "metadata": {},
     "output_type": "execute_result"
    }
   ],
   "source": [
    "dummy_in = tf.keras.layers.Input(shape=[32,32,3], batch_size=1)\n",
    "model(dummy_in)"
   ]
  },
  {
   "cell_type": "code",
   "execution_count": 11,
   "metadata": {},
   "outputs": [
    {
     "ename": "AttributeError",
     "evalue": "The layer has never been called and thus has no defined input shape.",
     "output_type": "error",
     "traceback": [
      "\u001b[0;31m---------------------------------------------------------------------------\u001b[0m",
      "\u001b[0;31mAttributeError\u001b[0m                            Traceback (most recent call last)",
      "\u001b[0;32m<ipython-input-11-e2e11b783254>\u001b[0m in \u001b[0;36m<module>\u001b[0;34m\u001b[0m\n\u001b[0;32m----> 1\u001b[0;31m \u001b[0mmodel\u001b[0m\u001b[0;34m.\u001b[0m\u001b[0mlayers\u001b[0m\u001b[0;34m[\u001b[0m\u001b[0;36m0\u001b[0m\u001b[0;34m]\u001b[0m\u001b[0;34m.\u001b[0m\u001b[0minput_shape\u001b[0m\u001b[0;34m\u001b[0m\u001b[0m\n\u001b[0m",
      "\u001b[0;32m/usr/local/lib/python3.6/dist-packages/tensorflow/python/keras/engine/base_layer.py\u001b[0m in \u001b[0;36minput_shape\u001b[0;34m(self)\u001b[0m\n\u001b[1;32m   1336\u001b[0m     \"\"\"\n\u001b[1;32m   1337\u001b[0m     \u001b[0;32mif\u001b[0m \u001b[0;32mnot\u001b[0m \u001b[0mself\u001b[0m\u001b[0;34m.\u001b[0m\u001b[0m_inbound_nodes\u001b[0m\u001b[0;34m:\u001b[0m\u001b[0;34m\u001b[0m\u001b[0m\n\u001b[0;32m-> 1338\u001b[0;31m       raise AttributeError('The layer has never been called '\n\u001b[0m\u001b[1;32m   1339\u001b[0m                            'and thus has no defined input shape.')\n\u001b[1;32m   1340\u001b[0m     all_input_shapes = set(\n",
      "\u001b[0;31mAttributeError\u001b[0m: The layer has never been called and thus has no defined input shape."
     ]
    }
   ],
   "source": []
  },
  {
   "cell_type": "code",
   "execution_count": 5,
   "metadata": {},
   "outputs": [
    {
     "name": "stdout",
     "output_type": "stream",
     "text": [
      "WARNING:tensorflow:From /usr/local/lib/python3.6/dist-packages/tensorflow/python/training/checkpointable/util.py:1455: NameBasedSaverStatus.__init__ (from tensorflow.python.training.checkpointable.util) is deprecated and will be removed in a future version.\n",
      "Instructions for updating:\n",
      "Restoring a name-based tf.train.Saver checkpoint using the object-based restore API. This mode uses global names to match variables, and so is somewhat fragile. It also adds new restore ops to the graph each time it is called when graph building. Prefer re-encoding training checkpoints in the object-based format: run save() on the object-based saver (the same one this message is coming from) and use that checkpoint in the future.\n"
     ]
    },
    {
     "data": {
      "text/plain": [
       "<tensorflow.python.training.checkpointable.util.NameBasedSaverStatus at 0x7effe861a710>"
      ]
     },
     "execution_count": 5,
     "metadata": {},
     "output_type": "execute_result"
    }
   ],
   "source": [
    "model.load_weights('/data/jwfromm/models/MAX_BINARY_confirm/model.ckpt-60000')"
   ]
  },
  {
   "cell_type": "code",
   "execution_count": 17,
   "metadata": {},
   "outputs": [
    {
     "data": {
      "text/plain": [
       "(<tf.Tensor: id=1767, shape=(1, 1, 1, 16), dtype=float32, numpy=\n",
       " array([[[[0.0625    , 0.125     , 0.0625    , 0.0625    , 0.0625    ,\n",
       "           0.0625    , 0.0625    , 0.0625    , 0.00097656, 0.0625    ,\n",
       "           0.0625    , 0.03125   , 0.0625    , 0.0625    , 0.0625    ,\n",
       "           0.0625    ]]]], dtype=float32)>,\n",
       " <tf.Tensor: id=1754, shape=(3, 3, 16, 16), dtype=float32, numpy=\n",
       " array([[[[ 1.,  1., -1., ..., -1., -1.,  1.],\n",
       "          [-1., -1., -1., ...,  1.,  1.,  1.],\n",
       "          [-1., -1.,  1., ..., -1.,  1.,  1.],\n",
       "          ...,\n",
       "          [-1., -1., -1., ..., -1.,  1., -1.],\n",
       "          [ 1., -1., -1., ...,  1., -1., -1.],\n",
       "          [ 1., -1., -1., ..., -1., -1.,  1.]],\n",
       " \n",
       "         [[ 1., -1., -1., ..., -1.,  1., -1.],\n",
       "          [-1., -1., -1., ...,  1.,  1., -1.],\n",
       "          [ 1.,  1.,  1., ...,  1., -1., -1.],\n",
       "          ...,\n",
       "          [-1.,  1., -1., ..., -1.,  1., -1.],\n",
       "          [ 1., -1., -1., ..., -1.,  1.,  1.],\n",
       "          [-1., -1., -1., ..., -1.,  1.,  1.]],\n",
       " \n",
       "         [[ 1.,  1., -1., ..., -1.,  1.,  1.],\n",
       "          [ 1., -1.,  1., ...,  1., -1., -1.],\n",
       "          [ 1., -1.,  1., ..., -1., -1.,  1.],\n",
       "          ...,\n",
       "          [ 1., -1.,  1., ...,  1., -1.,  1.],\n",
       "          [-1., -1., -1., ...,  1.,  1.,  1.],\n",
       "          [-1., -1., -1., ...,  1.,  1.,  1.]]],\n",
       " \n",
       " \n",
       "        [[[ 1., -1., -1., ..., -1., -1.,  1.],\n",
       "          [-1., -1., -1., ...,  1., -1.,  1.],\n",
       "          [-1., -1., -1., ..., -1., -1.,  1.],\n",
       "          ...,\n",
       "          [-1.,  1., -1., ...,  1., -1., -1.],\n",
       "          [-1., -1., -1., ..., -1.,  1.,  1.],\n",
       "          [-1., -1.,  1., ..., -1.,  1., -1.]],\n",
       " \n",
       "         [[ 1.,  1., -1., ...,  1.,  1., -1.],\n",
       "          [-1.,  1., -1., ..., -1.,  1.,  1.],\n",
       "          [ 1., -1., -1., ..., -1.,  1.,  1.],\n",
       "          ...,\n",
       "          [-1., -1., -1., ..., -1., -1., -1.],\n",
       "          [ 1.,  1., -1., ...,  1.,  1., -1.],\n",
       "          [ 1.,  1., -1., ...,  1., -1.,  1.]],\n",
       " \n",
       "         [[ 1.,  1., -1., ..., -1., -1.,  1.],\n",
       "          [-1.,  1., -1., ..., -1.,  1.,  1.],\n",
       "          [ 1., -1., -1., ...,  1.,  1., -1.],\n",
       "          ...,\n",
       "          [-1., -1.,  1., ..., -1.,  1.,  1.],\n",
       "          [-1.,  1.,  1., ...,  1., -1.,  1.],\n",
       "          [ 1.,  1.,  1., ...,  1., -1.,  1.]]],\n",
       " \n",
       " \n",
       "        [[[ 1.,  1., -1., ..., -1.,  1., -1.],\n",
       "          [-1.,  1., -1., ..., -1.,  1., -1.],\n",
       "          [-1.,  1.,  1., ...,  1.,  1., -1.],\n",
       "          ...,\n",
       "          [-1.,  1., -1., ...,  1., -1., -1.],\n",
       "          [ 1.,  1., -1., ..., -1.,  1., -1.],\n",
       "          [-1., -1., -1., ...,  1.,  1., -1.]],\n",
       " \n",
       "         [[-1.,  1., -1., ...,  1., -1., -1.],\n",
       "          [-1.,  1., -1., ...,  1., -1., -1.],\n",
       "          [ 1.,  1.,  1., ...,  1., -1.,  1.],\n",
       "          ...,\n",
       "          [-1., -1., -1., ...,  1., -1., -1.],\n",
       "          [ 1.,  1., -1., ...,  1., -1., -1.],\n",
       "          [-1., -1., -1., ..., -1.,  1., -1.]],\n",
       " \n",
       "         [[ 1.,  1., -1., ..., -1., -1.,  1.],\n",
       "          [-1.,  1., -1., ...,  1., -1., -1.],\n",
       "          [ 1.,  1.,  1., ..., -1., -1.,  1.],\n",
       "          ...,\n",
       "          [-1.,  1.,  1., ...,  1., -1., -1.],\n",
       "          [-1., -1.,  1., ...,  1.,  1.,  1.],\n",
       "          [ 1., -1., -1., ...,  1.,  1., -1.]]]], dtype=float32)>)"
      ]
     },
     "execution_count": 17,
     "metadata": {},
     "output_type": "execute_result"
    }
   ],
   "source": [
    "get_quantize_bits(model.layers[1].layers[0].weights[0])"
   ]
  },
  {
   "cell_type": "code",
   "execution_count": 7,
   "metadata": {},
   "outputs": [
    {
     "data": {
      "text/plain": [
       "(<tf.Tensor: id=1732, shape=(1, 10), dtype=float32, numpy=\n",
       " array([[0.125, 0.25 , 0.25 , 0.125, 0.25 , 0.125, 0.25 , 0.25 , 0.25 ,\n",
       "         0.25 ]], dtype=float32)>,\n",
       " <tf.Tensor: id=1719, shape=(64, 10), dtype=float32, numpy=\n",
       " array([[-1.,  1., -1., -1.,  1., -1.,  1., -1., -1., -1.],\n",
       "        [ 1., -1., -1.,  1., -1.,  1., -1.,  1., -1., -1.],\n",
       "        [-1., -1., -1., -1.,  1., -1., -1.,  1., -1.,  1.],\n",
       "        [ 1., -1.,  1., -1., -1., -1.,  1., -1., -1., -1.],\n",
       "        [ 1.,  1., -1., -1.,  1., -1., -1., -1., -1.,  1.],\n",
       "        [-1.,  1., -1., -1., -1., -1.,  1., -1., -1., -1.],\n",
       "        [ 1.,  1., -1., -1., -1., -1., -1., -1.,  1., -1.],\n",
       "        [ 1.,  1., -1., -1., -1., -1., -1., -1., -1., -1.],\n",
       "        [-1., -1., -1.,  1.,  1., -1., -1., -1.,  1.,  1.],\n",
       "        [-1., -1., -1.,  1., -1.,  1.,  1.,  1.,  1., -1.],\n",
       "        [-1.,  1.,  1., -1., -1., -1., -1., -1., -1.,  1.],\n",
       "        [-1.,  1., -1., -1., -1.,  1.,  1., -1., -1., -1.],\n",
       "        [ 1., -1.,  1., -1.,  1., -1., -1., -1.,  1., -1.],\n",
       "        [-1.,  1., -1., -1., -1., -1., -1., -1., -1.,  1.],\n",
       "        [-1., -1., -1., -1.,  1., -1., -1.,  1., -1., -1.],\n",
       "        [-1.,  1., -1., -1., -1.,  1.,  1., -1.,  1., -1.],\n",
       "        [-1.,  1., -1.,  1.,  1.,  1.,  1., -1.,  1.,  1.],\n",
       "        [-1., -1., -1.,  1.,  1., -1.,  1., -1., -1., -1.],\n",
       "        [-1., -1.,  1.,  1., -1.,  1.,  1., -1., -1., -1.],\n",
       "        [ 1., -1., -1., -1., -1., -1.,  1., -1.,  1., -1.],\n",
       "        [ 1., -1., -1., -1., -1.,  1., -1., -1.,  1.,  1.],\n",
       "        [-1., -1.,  1., -1., -1., -1.,  1., -1., -1., -1.],\n",
       "        [ 1.,  1.,  1.,  1., -1., -1., -1., -1.,  1.,  1.],\n",
       "        [ 1., -1.,  1., -1., -1.,  1., -1., -1., -1., -1.],\n",
       "        [ 1., -1.,  1., -1.,  1., -1., -1., -1., -1., -1.],\n",
       "        [-1., -1., -1.,  1., -1., -1.,  1., -1., -1.,  1.],\n",
       "        [ 1., -1.,  1., -1., -1., -1., -1., -1., -1., -1.],\n",
       "        [-1.,  1., -1., -1., -1., -1., -1., -1.,  1.,  1.],\n",
       "        [-1.,  1.,  1., -1., -1., -1., -1., -1.,  1.,  1.],\n",
       "        [ 1.,  1., -1., -1., -1., -1., -1., -1., -1.,  1.],\n",
       "        [-1.,  1., -1.,  1.,  1.,  1., -1., -1.,  1.,  1.],\n",
       "        [-1., -1., -1., -1., -1., -1., -1., -1.,  1.,  1.],\n",
       "        [-1., -1.,  1.,  1.,  1., -1.,  1., -1., -1., -1.],\n",
       "        [-1., -1., -1., -1., -1.,  1., -1.,  1., -1., -1.],\n",
       "        [-1., -1., -1.,  1., -1.,  1., -1.,  1., -1.,  1.],\n",
       "        [-1., -1.,  1., -1.,  1.,  1., -1.,  1., -1., -1.],\n",
       "        [ 1., -1.,  1., -1., -1., -1., -1., -1.,  1., -1.],\n",
       "        [-1., -1., -1.,  1., -1.,  1., -1., -1.,  1., -1.],\n",
       "        [-1., -1., -1., -1.,  1.,  1., -1.,  1., -1., -1.],\n",
       "        [-1.,  1., -1., -1., -1., -1., -1., -1.,  1.,  1.],\n",
       "        [-1., -1.,  1., -1., -1., -1.,  1., -1.,  1., -1.],\n",
       "        [-1.,  1., -1., -1., -1., -1., -1.,  1., -1., -1.],\n",
       "        [-1., -1., -1.,  1.,  1.,  1.,  1., -1., -1., -1.],\n",
       "        [ 1., -1., -1., -1., -1.,  1., -1.,  1., -1., -1.],\n",
       "        [ 1., -1., -1., -1.,  1., -1., -1., -1.,  1.,  1.],\n",
       "        [-1., -1.,  1., -1.,  1., -1.,  1.,  1., -1., -1.],\n",
       "        [-1., -1.,  1., -1., -1.,  1.,  1., -1.,  1., -1.],\n",
       "        [ 1., -1.,  1.,  1., -1., -1., -1.,  1., -1.,  1.],\n",
       "        [-1., -1.,  1.,  1.,  1.,  1., -1.,  1., -1., -1.],\n",
       "        [-1.,  1.,  1., -1., -1.,  1., -1., -1., -1., -1.],\n",
       "        [-1.,  1., -1.,  1., -1., -1., -1., -1.,  1., -1.],\n",
       "        [-1., -1., -1., -1.,  1.,  1., -1., -1., -1., -1.],\n",
       "        [ 1., -1., -1., -1., -1., -1., -1.,  1.,  1.,  1.],\n",
       "        [-1., -1.,  1., -1.,  1., -1.,  1., -1., -1., -1.],\n",
       "        [ 1., -1.,  1., -1.,  1., -1., -1.,  1.,  1., -1.],\n",
       "        [-1.,  1.,  1., -1.,  1., -1.,  1., -1.,  1., -1.],\n",
       "        [-1.,  1., -1., -1., -1., -1., -1.,  1., -1., -1.],\n",
       "        [-1., -1., -1., -1., -1., -1.,  1.,  1., -1.,  1.],\n",
       "        [-1., -1., -1., -1., -1.,  1.,  1., -1.,  1., -1.],\n",
       "        [ 1., -1., -1., -1., -1., -1.,  1., -1., -1.,  1.],\n",
       "        [-1., -1., -1., -1., -1., -1., -1.,  1.,  1., -1.],\n",
       "        [ 1.,  1., -1., -1.,  1., -1., -1., -1.,  1., -1.],\n",
       "        [ 1., -1., -1., -1., -1., -1., -1., -1.,  1.,  1.],\n",
       "        [-1.,  1., -1., -1.,  1., -1.,  1., -1., -1., -1.]], dtype=float32)>)"
      ]
     },
     "execution_count": 7,
     "metadata": {},
     "output_type": "execute_result"
    }
   ],
   "source": [
    "get_quantize_bits(model.layers[-2].weights[0])"
   ]
  },
  {
   "cell_type": "code",
   "execution_count": null,
   "metadata": {},
   "outputs": [],
   "source": []
  }
 ],
 "metadata": {
  "kernelspec": {
   "display_name": "Python 3",
   "language": "python",
   "name": "python3"
  },
  "language_info": {
   "codemirror_mode": {
    "name": "ipython",
    "version": 3
   },
   "file_extension": ".py",
   "mimetype": "text/x-python",
   "name": "python",
   "nbconvert_exporter": "python",
   "pygments_lexer": "ipython3",
   "version": "3.6.6"
  }
 },
 "nbformat": 4,
 "nbformat_minor": 2
}
