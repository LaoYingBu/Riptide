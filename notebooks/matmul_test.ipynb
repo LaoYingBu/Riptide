{
 "cells": [
  {
   "cell_type": "code",
   "execution_count": 1,
   "metadata": {},
   "outputs": [],
   "source": [
    "import tensorflow as tf\n",
    "import numpy as np\n",
    "import time"
   ]
  },
  {
   "cell_type": "code",
   "execution_count": 29,
   "metadata": {},
   "outputs": [],
   "source": [
    "size = 16\n",
    "a = tf.placeholder(tf.float32, shape=[1, size])\n",
    "b = tf.placeholder(tf.float32, shape=[size, size])\n",
    "\n",
    "a_np = np.random.normal(size=a.shape.as_list())\n",
    "b_np = np.random.normal(size=b.shape.as_list())"
   ]
  },
  {
   "cell_type": "code",
   "execution_count": 30,
   "metadata": {},
   "outputs": [
    {
     "name": "stdout",
     "output_type": "stream",
     "text": [
      "0.000211954116821\n"
     ]
    }
   ],
   "source": [
    "# Test numpy time\n",
    "start = time.time()\n",
    "output = np.dot(a_np, b_np)\n",
    "end = time.time()\n",
    "print(end - start)"
   ]
  },
  {
   "cell_type": "code",
   "execution_count": 31,
   "metadata": {},
   "outputs": [
    {
     "name": "stdout",
     "output_type": "stream",
     "text": [
      "0.0191869735718\n"
     ]
    }
   ],
   "source": [
    "# Test tf time\n",
    "ab = tf.matmul(a, b)\n",
    "\n",
    "with tf.Session() as sess:\n",
    "    start = time.time()\n",
    "    output = sess.run(ab, feed_dict={a:a_np, b:b_np})\n",
    "    end = time.time()\n",
    "print(end - start)"
   ]
  },
  {
   "cell_type": "code",
   "execution_count": null,
   "metadata": {},
   "outputs": [],
   "source": []
  }
 ],
 "metadata": {
  "kernelspec": {
   "display_name": "Python 2",
   "language": "python",
   "name": "python2"
  },
  "language_info": {
   "codemirror_mode": {
    "name": "ipython",
    "version": 2
   },
   "file_extension": ".py",
   "mimetype": "text/x-python",
   "name": "python",
   "nbconvert_exporter": "python",
   "pygments_lexer": "ipython2",
   "version": "2.7.15rc1"
  }
 },
 "nbformat": 4,
 "nbformat_minor": 2
}
