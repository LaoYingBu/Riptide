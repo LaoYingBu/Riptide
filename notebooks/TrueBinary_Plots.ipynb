{
 "cells": [
  {
   "cell_type": "code",
   "execution_count": 255,
   "metadata": {},
   "outputs": [],
   "source": [
    "import pandas as pd\n",
    "\n",
    "# We'll also import seaborn, a Python graphing library\n",
    "import warnings # current version of seaborn generates a bunch of warnings that we'll ignore\n",
    "warnings.filterwarnings(\"ignore\")\n",
    "import seaborn as sns\n",
    "\n",
    "# import matplotlib and set inline\n",
    "%matplotlib inline\n",
    "import matplotlib.pyplot as plt\n",
    "import matplotlib\n",
    "\n",
    "from mpl_toolkits.mplot3d import Axes3D\n",
    "from sklearn.decomposition import PCA\n",
    "import numpy as np\n",
    "sns.set()"
   ]
  },
  {
   "cell_type": "markdown",
   "metadata": {},
   "source": [
    "# Bitwidth Comparison"
   ]
  },
  {
   "cell_type": "code",
   "execution_count": 256,
   "metadata": {},
   "outputs": [],
   "source": [
    "# unipolar quantization\n",
    "bits = ['1', '2', '3']\n",
    "accuracy = [58.1, 67.2, 70.2]\n",
    "runtime = [243.77, 387.21, 609.97]\n",
    "quant_type_pos = ['unipolar', 'unipolar', 'unipolar']\n",
    "\n",
    "# bipolar quantization\n",
    "runtime_neg = [184.07, 271.42, 423.48]#, 2420]\n",
    "bits_neg = ['1', '2', '3']#, '32']\n",
    "accuracy_neg = [56.2, 64.0, 68.5]#, 72.7]\n",
    "quant_type_neg = ['bipolar', 'bipolar', 'bipolar']#, 'full precision']"
   ]
  },
  {
   "cell_type": "code",
   "execution_count": 257,
   "metadata": {},
   "outputs": [],
   "source": [
    "data_pos = {'Bitwidth': bits, 'Accuracy (top-1)': accuracy, 'Runtime (ms)': runtime, 'Quantization Type': quant_type_pos}\n",
    "data_neg = {'Bitwidth': bits_neg, 'Accuracy (top-1)': accuracy_neg, 'Runtime (ms)': runtime_neg, 'Quantization Type': quant_type_neg}"
   ]
  },
  {
   "cell_type": "code",
   "execution_count": 258,
   "metadata": {},
   "outputs": [],
   "source": [
    "df_pos = pd.DataFrame(data_pos)\n",
    "df_neg = pd.DataFrame(data_neg)\n",
    "df = pd.concat([df_pos, df_neg], ignore_index=True)"
   ]
  },
  {
   "cell_type": "code",
   "execution_count": 259,
   "metadata": {},
   "outputs": [
    {
     "data": {
      "text/html": [
       "<div>\n",
       "<style scoped>\n",
       "    .dataframe tbody tr th:only-of-type {\n",
       "        vertical-align: middle;\n",
       "    }\n",
       "\n",
       "    .dataframe tbody tr th {\n",
       "        vertical-align: top;\n",
       "    }\n",
       "\n",
       "    .dataframe thead th {\n",
       "        text-align: right;\n",
       "    }\n",
       "</style>\n",
       "<table border=\"1\" class=\"dataframe\">\n",
       "  <thead>\n",
       "    <tr style=\"text-align: right;\">\n",
       "      <th></th>\n",
       "      <th>Bitwidth</th>\n",
       "      <th>Accuracy (top-1)</th>\n",
       "      <th>Runtime (ms)</th>\n",
       "      <th>Quantization Type</th>\n",
       "    </tr>\n",
       "  </thead>\n",
       "  <tbody>\n",
       "    <tr>\n",
       "      <th>0</th>\n",
       "      <td>1</td>\n",
       "      <td>58.1</td>\n",
       "      <td>243.77</td>\n",
       "      <td>unipolar</td>\n",
       "    </tr>\n",
       "    <tr>\n",
       "      <th>1</th>\n",
       "      <td>2</td>\n",
       "      <td>67.2</td>\n",
       "      <td>387.21</td>\n",
       "      <td>unipolar</td>\n",
       "    </tr>\n",
       "    <tr>\n",
       "      <th>2</th>\n",
       "      <td>3</td>\n",
       "      <td>70.2</td>\n",
       "      <td>609.97</td>\n",
       "      <td>unipolar</td>\n",
       "    </tr>\n",
       "    <tr>\n",
       "      <th>3</th>\n",
       "      <td>1</td>\n",
       "      <td>56.2</td>\n",
       "      <td>184.07</td>\n",
       "      <td>bipolar</td>\n",
       "    </tr>\n",
       "    <tr>\n",
       "      <th>4</th>\n",
       "      <td>2</td>\n",
       "      <td>64.0</td>\n",
       "      <td>271.42</td>\n",
       "      <td>bipolar</td>\n",
       "    </tr>\n",
       "    <tr>\n",
       "      <th>5</th>\n",
       "      <td>3</td>\n",
       "      <td>68.5</td>\n",
       "      <td>423.48</td>\n",
       "      <td>bipolar</td>\n",
       "    </tr>\n",
       "  </tbody>\n",
       "</table>\n",
       "</div>"
      ],
      "text/plain": [
       "  Bitwidth  Accuracy (top-1)  Runtime (ms) Quantization Type\n",
       "0        1              58.1        243.77          unipolar\n",
       "1        2              67.2        387.21          unipolar\n",
       "2        3              70.2        609.97          unipolar\n",
       "3        1              56.2        184.07           bipolar\n",
       "4        2              64.0        271.42           bipolar\n",
       "5        3              68.5        423.48           bipolar"
      ]
     },
     "execution_count": 259,
     "metadata": {},
     "output_type": "execute_result"
    }
   ],
   "source": [
    "df"
   ]
  },
  {
   "cell_type": "code",
   "execution_count": 260,
   "metadata": {},
   "outputs": [],
   "source": [
    "neg_acc = df.loc[df['Quantization Type'] == 'bipolar']['Accuracy (top-1)']\n",
    "pos_acc = df.loc[df['Quantization Type'] == 'unipolar']['Accuracy (top-1)']"
   ]
  },
  {
   "cell_type": "code",
   "execution_count": 264,
   "metadata": {},
   "outputs": [
    {
     "data": {
      "image/png": "[encoded data removed]",
      "text/plain": [
       "<Figure size 432x288 with 2 Axes>"
      ]
     },
     "metadata": {},
     "output_type": "display_data"
    }
   ],
   "source": [
    "\n",
    "#counts = np.array([56000,900,5000,6000,30000,3500,300]).astype(float)\n",
    "#perc =  counts/counts.sum()\n",
    "#df = pd.DataFrame({\"range\": list(\"ABCDEFG\"),\"count\":counts, \"perc\":perc})\n",
    "\n",
    "fig = plt.figure()\n",
    "#ax = df['runtime'].plot(kind=\"bar\", alpha=0.7)\n",
    "ax = sns.barplot(x='Bitwidth', y='Runtime (ms)', hue='Quantization Type', data=df)\n",
    "ax.set_ylim([0,2700])\n",
    "#ax = sns.scatterplot(x='Runtime (ms)', y='Accuracy (top-1)', size='Bitwidth', hue='Quantization Type', data=df)\n",
    "#ax.set(xlabel='Activation Bits', ylabel='Runtime (ms)')\n",
    "ax2 = ax.twinx()\n",
    "ax2.grid(False)\n",
    "ax2 = sns.scatterplot(x='Bitwidth', y='Accuracy (top-1)', hue='Quantization Type', data=df, marker='X', s=60)\n",
    "ax2.get_legend().remove()\n",
    "ax2.set_ylim([50, 80])\n",
    "ax.axhline(y=2420, color='g', xmax=0.2, linestyle='--', label=\"Full Precision\")\n",
    "ax2.axhline(y=72.7, color='g', xmin=0.8, linestyle='--')\n",
    "ax.scatter(x=0, y=0, alpha=1, marker='X', color='black', label='Accuracy', s=50, linewidths=.01)\n",
    "ax.legend(loc='upper center')\n",
    "#ax2.plot(ax.get_xticks(),pos_acc,marker='o', c='navy', linewidth=2)\n",
    "#ax2.plot(ax.get_xticks(),neg_acc,marker='o', c='yellow', linewidth=2)\n",
    "\n",
    "#ax.set_xticklabels(df['Bitwidth'], rotation=0)\n",
    "#ax.set_ylim(0,1.3*df[\"Runtime (ms)\"].max())\n",
    "#ax2.set_ylim(0.8*df[\"Accuracy (top-1)\"].min(),1.3*df[\"Accuracy (top-1)\"].max())\n",
    "#ax2.set(ylabel='Imagenet Top-1 Accuracy')\n",
    "#plt.legend()\n",
    "plt.tight_layout()\n",
    "plt.savefig('/data/jwfromm/bitwidth_comp.png', dpi=900)\n",
    "plt.show()"
   ]
  },
  {
   "cell_type": "markdown",
   "metadata": {},
   "source": [
    "# Effect of optimizations on speedup"
   ]
  },
  {
   "cell_type": "code",
   "execution_count": 266,
   "metadata": {},
   "outputs": [],
   "source": [
    "optimizations = ['unoptimized', 'tiling', 'vectorize', 'parallel', 'layer fusion']\n",
    "speedups = [0.5, 0.8, 0.9, 2.0, 10.0]"
   ]
  },
  {
   "cell_type": "code",
   "execution_count": 267,
   "metadata": {},
   "outputs": [],
   "source": [
    "data = {'Optimization': optimizations, 'Relative Speedup': speedups}"
   ]
  },
  {
   "cell_type": "code",
   "execution_count": 268,
   "metadata": {},
   "outputs": [],
   "source": [
    "df = pd.DataFrame(data)"
   ]
  },
  {
   "cell_type": "code",
   "execution_count": 269,
   "metadata": {},
   "outputs": [
    {
     "data": {
      "text/html": [
       "<div>\n",
       "<style scoped>\n",
       "    .dataframe tbody tr th:only-of-type {\n",
       "        vertical-align: middle;\n",
       "    }\n",
       "\n",
       "    .dataframe tbody tr th {\n",
       "        vertical-align: top;\n",
       "    }\n",
       "\n",
       "    .dataframe thead th {\n",
       "        text-align: right;\n",
       "    }\n",
       "</style>\n",
       "<table border=\"1\" class=\"dataframe\">\n",
       "  <thead>\n",
       "    <tr style=\"text-align: right;\">\n",
       "      <th></th>\n",
       "      <th>Optimization</th>\n",
       "      <th>Relative Speedup</th>\n",
       "    </tr>\n",
       "  </thead>\n",
       "  <tbody>\n",
       "    <tr>\n",
       "      <th>0</th>\n",
       "      <td>unoptimized</td>\n",
       "      <td>0.5</td>\n",
       "    </tr>\n",
       "    <tr>\n",
       "      <th>1</th>\n",
       "      <td>tiling</td>\n",
       "      <td>0.8</td>\n",
       "    </tr>\n",
       "    <tr>\n",
       "      <th>2</th>\n",
       "      <td>vectorize</td>\n",
       "      <td>0.9</td>\n",
       "    </tr>\n",
       "    <tr>\n",
       "      <th>3</th>\n",
       "      <td>parallel</td>\n",
       "      <td>2.0</td>\n",
       "    </tr>\n",
       "    <tr>\n",
       "      <th>4</th>\n",
       "      <td>layer fusion</td>\n",
       "      <td>10.0</td>\n",
       "    </tr>\n",
       "  </tbody>\n",
       "</table>\n",
       "</div>"
      ],
      "text/plain": [
       "   Optimization  Relative Speedup\n",
       "0   unoptimized               0.5\n",
       "1        tiling               0.8\n",
       "2     vectorize               0.9\n",
       "3      parallel               2.0\n",
       "4  layer fusion              10.0"
      ]
     },
     "execution_count": 269,
     "metadata": {},
     "output_type": "execute_result"
    }
   ],
   "source": [
    "df"
   ]
  },
  {
   "cell_type": "code",
   "execution_count": 270,
   "metadata": {},
   "outputs": [
    {
     "data": {
      "image/png": "[encoded data removed]",
      "text/plain": [
       "<Figure size 432x288 with 1 Axes>"
      ]
     },
     "metadata": {},
     "output_type": "display_data"
    }
   ],
   "source": [
    "# This plot sucks\n",
    "ax = sns.barplot(x='Optimization', y='Relative Speedup', data=df)\n",
    "ax.axhline(y=1.0, color='y')\n",
    "plt.savefig('/data/jwfromm/optimizations.png', dpi=900)\n",
    "plt.show()"
   ]
  },
  {
   "cell_type": "markdown",
   "metadata": {},
   "source": [
    "# Layer wise speed-ups on VGG"
   ]
  },
  {
   "cell_type": "code",
   "execution_count": 271,
   "metadata": {},
   "outputs": [],
   "source": [
    "layers = [0, 1, 2, 3, 4, 5, 6, 7, 8, 9, 10, 11, 12]\n",
    "\n",
    "#N = 1\n",
    "bits = (np.zeros(len(layers)) + 1).astype(np.int32)\n",
    "speedup = [20.1, 16.9, 32.6, 33.7, 16.1, 34.6, 35.6, 10.6, 10.6, 10.8, 20.1, 3.1, 0.7]\n",
    "n1_data = {'Layer': layers, 'Runtime (ms)': speedup, 'Bitwidth': bits}\n",
    "n1_df = pd.DataFrame(n1_data)\n",
    "\n",
    "# N = 2\n",
    "bits = (np.zeros(len(layers)) + 2).astype(np.int32)\n",
    "speedup = [20.1, 31.9, 58.6, 59.8, 28.9, 56.2, 57.0, 16.9, 16.8, 16.9, 20.3, 3.2, 0.8]\n",
    "n2_data = {'Layer': layers, 'Runtime (ms)': speedup, 'Bitwidth': bits}\n",
    "n2_df = pd.DataFrame(n2_data)\n",
    "\n",
    "#N = 3\n",
    "bits = (np.zeros(len(layers)) + 3).astype(np.int32)\n",
    "speedup = [20.3, 53.1, 99.9, 101.2, 46.4, 91.7, 92.5, 26.8, 26.9, 27.1, 20.8, 3.2, 0.9]\n",
    "n3_data = {'Layer': layers, 'Runtime (ms)': speedup, 'Bitwidth': bits}\n",
    "n3_df = pd.DataFrame(n3_data)\n",
    "\n",
    "#N = 32\n",
    "#bits = (np.zeros(len(layers)) + 32).astype(np.int32)\n",
    "#speedup = [1, 1, 1, 1, 1, 1, 1, 1, 1, 1, 1, 1, 1, 1]\n",
    "#n32_data = {'Layer': layers, 'Relative Speedup': speedup, 'Bitwidth': bits}\n",
    "#n32_df = pd.DataFrame(n32_data)"
   ]
  },
  {
   "cell_type": "code",
   "execution_count": 272,
   "metadata": {},
   "outputs": [],
   "source": [
    "joint_df = pd.concat([n1_df, n2_df, n3_df], ignore_index=True)"
   ]
  },
  {
   "cell_type": "code",
   "execution_count": 273,
   "metadata": {},
   "outputs": [
    {
     "data": {
      "image/png": "[encoded data removed]",
      "text/plain": [
       "<Figure size 432x288 with 1 Axes>"
      ]
     },
     "metadata": {},
     "output_type": "display_data"
    }
   ],
   "source": [
    "ax = sns.barplot(x='Layer', y='Runtime (ms)', hue='Bitwidth', data=joint_df)\n",
    "plt.savefig('/data/jwfromm/layerwise_speed.png', dpi=900)\n",
    "plt.show()"
   ]
  },
  {
   "cell_type": "code",
   "execution_count": null,
   "metadata": {},
   "outputs": [],
   "source": []
  },
  {
   "cell_type": "code",
   "execution_count": null,
   "metadata": {},
   "outputs": [],
   "source": []
  }
 ],
 "metadata": {
  "kernelspec": {
   "display_name": "Python 3",
   "language": "python",
   "name": "python3"
  },
  "language_info": {
   "codemirror_mode": {
    "name": "ipython",
    "version": 3
   },
   "file_extension": ".py",
   "mimetype": "text/x-python",
   "name": "python",
   "nbconvert_exporter": "python",
   "pygments_lexer": "ipython3",
   "version": "3.6.6"
  }
 },
 "nbformat": 4,
 "nbformat_minor": 2
}
