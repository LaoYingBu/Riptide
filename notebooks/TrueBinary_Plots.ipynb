{
 "cells": [
  {
   "cell_type": "code",
   "execution_count": 1,
   "metadata": {},
   "outputs": [],
   "source": [
    "import pandas as pd\n",
    "\n",
    "# We'll also import seaborn, a Python graphing library\n",
    "import warnings # current version of seaborn generates a bunch of warnings that we'll ignore\n",
    "warnings.filterwarnings(\"ignore\")\n",
    "import seaborn as sns\n",
    "\n",
    "# import matplotlib and set inline\n",
    "%matplotlib inline\n",
    "import matplotlib.pyplot as plt\n",
    "import matplotlib\n",
    "\n",
    "from mpl_toolkits.mplot3d import Axes3D\n",
    "from sklearn.decomposition import PCA\n",
    "import numpy as np\n",
    "sns.set()"
   ]
  },
  {
   "cell_type": "markdown",
   "metadata": {},
   "source": [
    "# Bitwidth Comparison"
   ]
  },
  {
   "cell_type": "code",
   "execution_count": 256,
   "metadata": {},
   "outputs": [],
   "source": [
    "# unipolar quantization\n",
    "bits = ['1', '2', '3']\n",
    "accuracy = [58.1, 67.2, 70.2]\n",
    "runtime = [243.77, 387.21, 609.97]\n",
    "quant_type_pos = ['unipolar', 'unipolar', 'unipolar']\n",
    "\n",
    "# bipolar quantization\n",
    "runtime_neg = [184.07, 271.42, 423.48]#, 2420]\n",
    "bits_neg = ['1', '2', '3']#, '32']\n",
    "accuracy_neg = [56.2, 64.0, 68.5]#, 72.7]\n",
    "quant_type_neg = ['bipolar', 'bipolar', 'bipolar']#, 'full precision']"
   ]
  },
  {
   "cell_type": "code",
   "execution_count": 257,
   "metadata": {},
   "outputs": [],
   "source": [
    "data_pos = {'Bitwidth': bits, 'Accuracy (top-1)': accuracy, 'Runtime (ms)': runtime, 'Quantization Type': quant_type_pos}\n",
    "data_neg = {'Bitwidth': bits_neg, 'Accuracy (top-1)': accuracy_neg, 'Runtime (ms)': runtime_neg, 'Quantization Type': quant_type_neg}"
   ]
  },
  {
   "cell_type": "code",
   "execution_count": 258,
   "metadata": {},
   "outputs": [],
   "source": [
    "df_pos = pd.DataFrame(data_pos)\n",
    "df_neg = pd.DataFrame(data_neg)\n",
    "df = pd.concat([df_pos, df_neg], ignore_index=True)"
   ]
  },
  {
   "cell_type": "code",
   "execution_count": 259,
   "metadata": {},
   "outputs": [
    {
     "data": {
      "text/html": [
       "<div>\n",
       "<style scoped>\n",
       "    .dataframe tbody tr th:only-of-type {\n",
       "        vertical-align: middle;\n",
       "    }\n",
       "\n",
       "    .dataframe tbody tr th {\n",
       "        vertical-align: top;\n",
       "    }\n",
       "\n",
       "    .dataframe thead th {\n",
       "        text-align: right;\n",
       "    }\n",
       "</style>\n",
       "<table border=\"1\" class=\"dataframe\">\n",
       "  <thead>\n",
       "    <tr style=\"text-align: right;\">\n",
       "      <th></th>\n",
       "      <th>Bitwidth</th>\n",
       "      <th>Accuracy (top-1)</th>\n",
       "      <th>Runtime (ms)</th>\n",
       "      <th>Quantization Type</th>\n",
       "    </tr>\n",
       "  </thead>\n",
       "  <tbody>\n",
       "    <tr>\n",
       "      <th>0</th>\n",
       "      <td>1</td>\n",
       "      <td>58.1</td>\n",
       "      <td>243.77</td>\n",
       "      <td>unipolar</td>\n",
       "    </tr>\n",
       "    <tr>\n",
       "      <th>1</th>\n",
       "      <td>2</td>\n",
       "      <td>67.2</td>\n",
       "      <td>387.21</td>\n",
       "      <td>unipolar</td>\n",
       "    </tr>\n",
       "    <tr>\n",
       "      <th>2</th>\n",
       "      <td>3</td>\n",
       "      <td>70.2</td>\n",
       "      <td>609.97</td>\n",
       "      <td>unipolar</td>\n",
       "    </tr>\n",
       "    <tr>\n",
       "      <th>3</th>\n",
       "      <td>1</td>\n",
       "      <td>56.2</td>\n",
       "      <td>184.07</td>\n",
       "      <td>bipolar</td>\n",
       "    </tr>\n",
       "    <tr>\n",
       "      <th>4</th>\n",
       "      <td>2</td>\n",
       "      <td>64.0</td>\n",
       "      <td>271.42</td>\n",
       "      <td>bipolar</td>\n",
       "    </tr>\n",
       "    <tr>\n",
       "      <th>5</th>\n",
       "      <td>3</td>\n",
       "      <td>68.5</td>\n",
       "      <td>423.48</td>\n",
       "      <td>bipolar</td>\n",
       "    </tr>\n",
       "  </tbody>\n",
       "</table>\n",
       "</div>"
      ],
      "text/plain": [
       "  Bitwidth  Accuracy (top-1)  Runtime (ms) Quantization Type\n",
       "0        1              58.1        243.77          unipolar\n",
       "1        2              67.2        387.21          unipolar\n",
       "2        3              70.2        609.97          unipolar\n",
       "3        1              56.2        184.07           bipolar\n",
       "4        2              64.0        271.42           bipolar\n",
       "5        3              68.5        423.48           bipolar"
      ]
     },
     "execution_count": 259,
     "metadata": {},
     "output_type": "execute_result"
    }
   ],
   "source": [
    "df"
   ]
  },
  {
   "cell_type": "code",
   "execution_count": 260,
   "metadata": {},
   "outputs": [],
   "source": [
    "neg_acc = df.loc[df['Quantization Type'] == 'bipolar']['Accuracy (top-1)']\n",
    "pos_acc = df.loc[df['Quantization Type'] == 'unipolar']['Accuracy (top-1)']"
   ]
  },
  {
   "cell_type": "code",
   "execution_count": 264,
   "metadata": {},
   "outputs": [
    {
     "data": {
      "image/png": "[encoded data removed]",
      "text/plain": [
       "<Figure size 432x288 with 2 Axes>"
      ]
     },
     "metadata": {},
     "output_type": "display_data"
    }
   ],
   "source": [
    "\n",
    "#counts = np.array([56000,900,5000,6000,30000,3500,300]).astype(float)\n",
    "#perc =  counts/counts.sum()\n",
    "#df = pd.DataFrame({\"range\": list(\"ABCDEFG\"),\"count\":counts, \"perc\":perc})\n",
    "\n",
    "fig = plt.figure()\n",
    "#ax = df['runtime'].plot(kind=\"bar\", alpha=0.7)\n",
    "ax = sns.barplot(x='Bitwidth', y='Runtime (ms)', hue='Quantization Type', data=df)\n",
    "ax.set_ylim([0,2700])\n",
    "#ax = sns.scatterplot(x='Runtime (ms)', y='Accuracy (top-1)', size='Bitwidth', hue='Quantization Type', data=df)\n",
    "#ax.set(xlabel='Activation Bits', ylabel='Runtime (ms)')\n",
    "ax2 = ax.twinx()\n",
    "ax2.grid(False)\n",
    "ax2 = sns.scatterplot(x='Bitwidth', y='Accuracy (top-1)', hue='Quantization Type', data=df, marker='X', s=60)\n",
    "ax2.get_legend().remove()\n",
    "ax2.set_ylim([50, 80])\n",
    "ax.axhline(y=2420, color='g', xmax=0.2, linestyle='--', label=\"Full Precision\")\n",
    "ax2.axhline(y=72.7, color='g', xmin=0.8, linestyle='--')\n",
    "ax.scatter(x=0, y=0, alpha=1, marker='X', color='black', label='Accuracy', s=50, linewidths=.01)\n",
    "ax.legend(loc='upper center')\n",
    "#ax2.plot(ax.get_xticks(),pos_acc,marker='o', c='navy', linewidth=2)\n",
    "#ax2.plot(ax.get_xticks(),neg_acc,marker='o', c='yellow', linewidth=2)\n",
    "\n",
    "#ax.set_xticklabels(df['Bitwidth'], rotation=0)\n",
    "#ax.set_ylim(0,1.3*df[\"Runtime (ms)\"].max())\n",
    "#ax2.set_ylim(0.8*df[\"Accuracy (top-1)\"].min(),1.3*df[\"Accuracy (top-1)\"].max())\n",
    "#ax2.set(ylabel='Imagenet Top-1 Accuracy')\n",
    "#plt.legend()\n",
    "plt.tight_layout()\n",
    "plt.savefig('/data/jwfromm/bitwidth_comp.png', dpi=900)\n",
    "plt.show()"
   ]
  },
  {
   "cell_type": "markdown",
   "metadata": {},
   "source": [
    "# Effect of optimizations on speedup"
   ]
  },
  {
   "cell_type": "code",
   "execution_count": 266,
   "metadata": {},
   "outputs": [],
   "source": [
    "optimizations = ['unoptimized', 'tiling', 'vectorize', 'parallel', 'layer fusion']\n",
    "speedups = [0.5, 0.8, 0.9, 2.0, 10.0]"
   ]
  },
  {
   "cell_type": "code",
   "execution_count": 267,
   "metadata": {},
   "outputs": [],
   "source": [
    "data = {'Optimization': optimizations, 'Relative Speedup': speedups}"
   ]
  },
  {
   "cell_type": "code",
   "execution_count": 268,
   "metadata": {},
   "outputs": [],
   "source": [
    "df = pd.DataFrame(data)"
   ]
  },
  {
   "cell_type": "code",
   "execution_count": 269,
   "metadata": {},
   "outputs": [
    {
     "data": {
      "text/html": [
       "<div>\n",
       "<style scoped>\n",
       "    .dataframe tbody tr th:only-of-type {\n",
       "        vertical-align: middle;\n",
       "    }\n",
       "\n",
       "    .dataframe tbody tr th {\n",
       "        vertical-align: top;\n",
       "    }\n",
       "\n",
       "    .dataframe thead th {\n",
       "        text-align: right;\n",
       "    }\n",
       "</style>\n",
       "<table border=\"1\" class=\"dataframe\">\n",
       "  <thead>\n",
       "    <tr style=\"text-align: right;\">\n",
       "      <th></th>\n",
       "      <th>Optimization</th>\n",
       "      <th>Relative Speedup</th>\n",
       "    </tr>\n",
       "  </thead>\n",
       "  <tbody>\n",
       "    <tr>\n",
       "      <th>0</th>\n",
       "      <td>unoptimized</td>\n",
       "      <td>0.5</td>\n",
       "    </tr>\n",
       "    <tr>\n",
       "      <th>1</th>\n",
       "      <td>tiling</td>\n",
       "      <td>0.8</td>\n",
       "    </tr>\n",
       "    <tr>\n",
       "      <th>2</th>\n",
       "      <td>vectorize</td>\n",
       "      <td>0.9</td>\n",
       "    </tr>\n",
       "    <tr>\n",
       "      <th>3</th>\n",
       "      <td>parallel</td>\n",
       "      <td>2.0</td>\n",
       "    </tr>\n",
       "    <tr>\n",
       "      <th>4</th>\n",
       "      <td>layer fusion</td>\n",
       "      <td>10.0</td>\n",
       "    </tr>\n",
       "  </tbody>\n",
       "</table>\n",
       "</div>"
      ],
      "text/plain": [
       "   Optimization  Relative Speedup\n",
       "0   unoptimized               0.5\n",
       "1        tiling               0.8\n",
       "2     vectorize               0.9\n",
       "3      parallel               2.0\n",
       "4  layer fusion              10.0"
      ]
     },
     "execution_count": 269,
     "metadata": {},
     "output_type": "execute_result"
    }
   ],
   "source": [
    "df"
   ]
  },
  {
   "cell_type": "code",
   "execution_count": 270,
   "metadata": {},
   "outputs": [
    {
     "data": {
      "image/png": "[encoded data removed]",
      "text/plain": [
       "<Figure size 432x288 with 1 Axes>"
      ]
     },
     "metadata": {},
     "output_type": "display_data"
    }
   ],
   "source": [
    "# This plot sucks\n",
    "ax = sns.barplot(x='Optimization', y='Relative Speedup', data=df)\n",
    "ax.axhline(y=1.0, color='y')\n",
    "plt.savefig('/data/jwfromm/optimizations.png', dpi=900)\n",
    "plt.show()"
   ]
  },
  {
   "cell_type": "markdown",
   "metadata": {},
   "source": [
    "# Layer wise speed-ups on VGG"
   ]
  },
  {
   "cell_type": "code",
   "execution_count": 271,
   "metadata": {},
   "outputs": [],
   "source": [
    "layers = [0, 1, 2, 3, 4, 5, 6, 7, 8, 9, 10, 11, 12]\n",
    "\n",
    "#N = 1\n",
    "bits = (np.zeros(len(layers)) + 1).astype(np.int32)\n",
    "speedup = [20.1, 16.9, 32.6, 33.7, 16.1, 34.6, 35.6, 10.6, 10.6, 10.8, 20.1, 3.1, 0.7]\n",
    "n1_data = {'Layer': layers, 'Runtime (ms)': speedup, 'Bitwidth': bits}\n",
    "n1_df = pd.DataFrame(n1_data)\n",
    "\n",
    "# N = 2\n",
    "bits = (np.zeros(len(layers)) + 2).astype(np.int32)\n",
    "speedup = [20.1, 31.9, 58.6, 59.8, 28.9, 56.2, 57.0, 16.9, 16.8, 16.9, 20.3, 3.2, 0.8]\n",
    "n2_data = {'Layer': layers, 'Runtime (ms)': speedup, 'Bitwidth': bits}\n",
    "n2_df = pd.DataFrame(n2_data)\n",
    "\n",
    "#N = 3\n",
    "bits = (np.zeros(len(layers)) + 3).astype(np.int32)\n",
    "speedup = [20.3, 53.1, 99.9, 101.2, 46.4, 91.7, 92.5, 26.8, 26.9, 27.1, 20.8, 3.2, 0.9]\n",
    "n3_data = {'Layer': layers, 'Runtime (ms)': speedup, 'Bitwidth': bits}\n",
    "n3_df = pd.DataFrame(n3_data)\n",
    "\n",
    "#N = 32\n",
    "#bits = (np.zeros(len(layers)) + 32).astype(np.int32)\n",
    "#speedup = [1, 1, 1, 1, 1, 1, 1, 1, 1, 1, 1, 1, 1, 1]\n",
    "#n32_data = {'Layer': layers, 'Relative Speedup': speedup, 'Bitwidth': bits}\n",
    "#n32_df = pd.DataFrame(n32_data)"
   ]
  },
  {
   "cell_type": "code",
   "execution_count": 272,
   "metadata": {},
   "outputs": [],
   "source": [
    "joint_df = pd.concat([n1_df, n2_df, n3_df], ignore_index=True)"
   ]
  },
  {
   "cell_type": "code",
   "execution_count": 273,
   "metadata": {},
   "outputs": [
    {
     "data": {
      "image/png": "[encoded data removed]",
      "text/plain": [
       "<Figure size 432x288 with 1 Axes>"
      ]
     },
     "metadata": {},
     "output_type": "display_data"
    }
   ],
   "source": [
    "ax = sns.barplot(x='Layer', y='Runtime (ms)', hue='Bitwidth', data=joint_df)\n",
    "plt.savefig('/data/jwfromm/layerwise_speed.png', dpi=900)\n",
    "plt.show()"
   ]
  },
  {
   "cell_type": "markdown",
   "metadata": {},
   "source": [
    "# Polarity Comparison"
   ]
  },
  {
   "cell_type": "code",
   "execution_count": 2,
   "metadata": {},
   "outputs": [],
   "source": [
    "# Here we consider 3x3 conv of fire layer 1.\n",
    "# Input shape: [1, 56, 56, 32], Filter shape: [3, 3, 64, 64]\n",
    "# Processor max throughput is 4.8 GHz\n",
    "# Op count (standard): 56*56*3*3*64*64 = 115.6 MFlops -> 24 ms for perfect execution (actual is 26ms)\n",
    "# Op count (bipolar): standard / 32 = 8 MBops -> .8 ms (actual is 3 ms)\n",
    "# Op count (unipolar): standard / 16 = 16 MBops -> 1.6 ms (actual is 4 ms)\n",
    "# For bitserial ops its obvious that memory movement dominates. Unipolar requires no additional memory movement over bipolar\n",
    "# so its only marginally slower. Thus, in most cases unipolar quantization is desirable.\n",
    "standard_ops = 56*56*3*3*64*64\n",
    "bipolar_ops = standard_ops / 32\n",
    "unipolar_ops = standard_ops / 16\n",
    "\n",
    "standard_runtime = 26.2\n",
    "bipolar_runtime = 3.0\n",
    "unipolar_runtime = 4.0\n",
    "\n",
    "standard_hyp = 24\n",
    "bipolar_hyp = .8\n",
    "unipolar_hyp = 1.6\n",
    "\n",
    "standard = pd.DataFrame([{'class': 'baseline', 'ops': standard_ops, 'runtime': standard_runtime}])\n",
    "bipolar = pd.DataFrame([{'class': 'bipolar', 'ops': bipolar_ops, 'runtime': bipolar_runtime}])\n",
    "unipolar = pd.DataFrame([{'class': 'unipolar', 'ops': unipolar_ops, 'runtime': unipolar_runtime}])"
   ]
  },
  {
   "cell_type": "code",
   "execution_count": 13,
   "metadata": {},
   "outputs": [
    {
     "data": {
      "image/png": "[encoded data removed]",
      "text/plain": [
       "<Figure size 432x288 with 3 Axes>"
      ]
     },
     "metadata": {
      "needs_background": "light"
     },
     "output_type": "display_data"
    }
   ],
   "source": [
    "fig, axs = plt.subplots(ncols=3)\n",
    "fig.tight_layout()"
   ]
  },
  {
   "cell_type": "code",
   "execution_count": 14,
   "metadata": {},
   "outputs": [
    {
     "data": {
      "text/plain": [
       "Text(0.5, 1, 'Baseline')"
      ]
     },
     "execution_count": 14,
     "metadata": {},
     "output_type": "execute_result"
    }
   ],
   "source": [
    "s = sns.barplot(data=standard, y='runtime', ax=axs[0])\n",
    "s.axhline(y=standard_hyp, color='y')\n",
    "s.set_ylabel(\"Runtime (ms)\")\n",
    "s.set_title(\"Baseline\")"
   ]
  },
  {
   "cell_type": "code",
   "execution_count": 15,
   "metadata": {},
   "outputs": [
    {
     "data": {
      "text/plain": [
       "[(0, 5)]"
      ]
     },
     "execution_count": 15,
     "metadata": {},
     "output_type": "execute_result"
    }
   ],
   "source": [
    "u = sns.barplot(data=unipolar, y='runtime', ax=axs[1])\n",
    "u.axhline(y=unipolar_hyp, color='y')\n",
    "u.set_ylabel(\"\")\n",
    "u.set_title(\"Unipolar\")\n",
    "u.set(ylim=(0, 5))"
   ]
  },
  {
   "cell_type": "code",
   "execution_count": 16,
   "metadata": {},
   "outputs": [
    {
     "data": {
      "text/plain": [
       "[(0, 5)]"
      ]
     },
     "execution_count": 16,
     "metadata": {},
     "output_type": "execute_result"
    }
   ],
   "source": [
    "b = sns.barplot(data=bipolar, y='runtime', ax=axs[2])\n",
    "b.axhline(y=bipolar_hyp, color='y')\n",
    "b.set_ylabel(\"\")\n",
    "b.set_title(\"Bipolar\")\n",
    "b.set(ylim=(0, 5))"
   ]
  },
  {
   "cell_type": "code",
   "execution_count": 17,
   "metadata": {},
   "outputs": [
    {
     "data": {
      "image/png": "[encoded data removed]",
      "text/plain": [
       "<Figure size 432x288 with 3 Axes>"
      ]
     },
     "execution_count": 17,
     "metadata": {},
     "output_type": "execute_result"
    }
   ],
   "source": [
    "fig"
   ]
  },
  {
   "cell_type": "code",
   "execution_count": 37,
   "metadata": {},
   "outputs": [],
   "source": [
    "fig.savefig('/data/jwfromm/polarity.png', dpi=900, bbox_inches='tight')"
   ]
  },
  {
   "cell_type": "markdown",
   "metadata": {},
   "source": [
    "# Unfused Cost"
   ]
  },
  {
   "cell_type": "code",
   "execution_count": 26,
   "metadata": {},
   "outputs": [],
   "source": [
    "# In this plot we want to show the per layer breakdown of inference time including interlayer ops. Maybe we do bar chart for ms of layer\n",
    "# on one y axis and other axis is % of runtime that increases from left to right.\n",
    "names = ['0', '1', '1g', '2', '2g', '3', '3g', '4', '4g', '5', '5g', '6', '6g', '7', '7g', '8', '8g', 'out', 'outg']\n",
    "runtime = [9.3, 6.7, 6.5, 7, 6.5, 10.7, 11.4, 3.4, 3.0, 4.8, 4.6, 5.7, 4.66, 8.1, 5.9, 1.9, 1.5, 1.6, .3]\n",
    "glue = ['g' in n for n in names]\n",
    "glue = ['Glue Layer' if g else 'Bitserial Layer' for g in glue]\n",
    "glue_effect = []\n",
    "delta_sum = 0\n",
    "for i in range(len(names)):\n",
    "    name, time = names[i], runtime[i]\n",
    "    if 'g' in name:\n",
    "        delta = time / sum(runtime)\n",
    "        delta_sum += delta\n",
    "        glue_effect.append(delta_sum)\n",
    "            \n",
    "pure_name = []\n",
    "for i in range(len(names)):\n",
    "    if 'g' in names[i]:\n",
    "        pure_name.append(pure_name[i-1])\n",
    "    else:\n",
    "        pure_name.append(names[i])\n",
    "        \n",
    "last_val = glue_effect[-1]\n",
    "for i in range(len(np.unique(pure_name)) - len(glue_effect)):\n",
    "    glue_effect.append(last_val)        "
   ]
  },
  {
   "cell_type": "code",
   "execution_count": 27,
   "metadata": {},
   "outputs": [],
   "source": [
    "# Make dataframe\n",
    "unfused_df = pd.DataFrame({'name': pure_name, 'runtime': runtime, 'Layer Type': glue})\n",
    "cumul_df = pd.DataFrame({'name': range(len(glue_effect)), 'cumul': glue_effect})"
   ]
  },
  {
   "cell_type": "code",
   "execution_count": 38,
   "metadata": {},
   "outputs": [
    {
     "data": {
      "image/png": "[encoded data removed]",
      "text/plain": [
       "<Figure size 432x288 with 2 Axes>"
      ]
     },
     "metadata": {
      "needs_background": "light"
     },
     "output_type": "display_data"
    }
   ],
   "source": [
    "from matplotlib.lines import Line2D\n",
    "fig = plt.figure()\n",
    "g = sns.barplot(x='name', y='runtime', hue='Layer Type', data=unfused_df)\n",
    "plt.tight_layout()\n",
    "g.set_xticklabels(g.get_xticklabels(), fontsize=9)\n",
    "g.set_xlabel('Layer')\n",
    "g.set_ylabel('Runtime (ms)')\n",
    "g.legend_.remove()\n",
    "\n",
    "g2 = g.twinx()\n",
    "g2.grid(False)\n",
    "g2 = sns.lineplot(x='name', y='cumul', data=cumul_df, label='Cumulative Glue Fraction')\n",
    "g2.set_ylim(0, 1)\n",
    "g2.lines[0].set_linestyle('--')\n",
    "g2.lines[0].set_c('orange')\n",
    "g2.set_ylabel(\"Glue Compute Fraction\")\n",
    "g2.legend_.remove()\n",
    "\n",
    "fig.legend(bbox_to_anchor=[.975, .960])\n",
    "fig.savefig('/data/jwfromm/unfused_cost.png', dpi=900)#, bbox_inches='tight')"
   ]
  },
  {
   "cell_type": "markdown",
   "metadata": {},
   "source": [
    "# Glue Breakdown"
   ]
  },
  {
   "cell_type": "code",
   "execution_count": 44,
   "metadata": {},
   "outputs": [
    {
     "data": {
      "text/plain": [
       "<matplotlib.legend.Legend at 0x7f16aa449d30>"
      ]
     },
     "execution_count": 44,
     "metadata": {},
     "output_type": "execute_result"
    },
    {
     "data": {
      "image/png": "[encoded data removed]",
      "text/plain": [
       "<Figure size 432x288 with 1 Axes>"
      ]
     },
     "metadata": {
      "needs_background": "light"
     },
     "output_type": "display_data"
    }
   ],
   "source": [
    "# Here we break down the costs in the first fire layer of squeezenet.\n",
    "squeeze_1x1_conv = 2.36\n",
    "squeeze_1x1_cast_fp = .27\n",
    "squeeze_1x1_bn = .35\n",
    "squeeze_1x1_quantize = 1.23\n",
    "squeeze_1x1_cast_int = .19\n",
    "\n",
    "expand_1x1_conv = .92\n",
    "expand_1x1_cast_fp = .83\n",
    "expand_1x1_bn = 1.0\n",
    "expand_1x1_quantize = 2.49\n",
    "expand_1x1_cast_int = .74\n",
    "\n",
    "expand_3x3_conv = 4.23\n",
    "expand_3x3_cast_fp = .79\n",
    "expand_3x3_bn = .97\n",
    "expand_3x3_quantize = 2.47\n",
    "expand_3x3_cast_int = .73\n",
    "\n",
    "concat = 1.43\n",
    "\n",
    "times = [squeeze_1x1_conv, squeeze_1x1_cast_fp, squeeze_1x1_bn, squeeze_1x1_quantize, squeeze_1x1_cast_int,\n",
    "         expand_1x1_conv, expand_1x1_cast_fp, expand_1x1_bn, expand_1x1_quantize, expand_1x1_cast_int,\n",
    "         expand_3x3_conv, expand_3x3_cast_fp, expand_3x3_bn, expand_3x3_quantize, expand_3x3_cast_int]\n",
    "layer = ['Squeeze (1x1)'] * 5 + ['Expand (1x1)'] * 5 + ['Expand (3x3)'] * 5\n",
    "op_type = ['Convolution', 'Cast FP', 'BatchNorm', 'Quantize', 'Cast Int'] * 3\n",
    "\n",
    "glue_df = pd.DataFrame({'Runtime (ms)': times, 'Layer': layer, 'Type': op_type})\n",
    "\n",
    "g = sns.barplot(x='Layer', y=\"Runtime (ms)\", data=glue_df, hue='Type')\n",
    "g.legend(title=\"\")"
   ]
  },
  {
   "cell_type": "code",
   "execution_count": 48,
   "metadata": {},
   "outputs": [],
   "source": [
    "g.get_figure().savefig('/data/jwfromm/glue_breakdown.png', dpi=900)"
   ]
  },
  {
   "cell_type": "markdown",
   "metadata": {},
   "source": [
    "# Scheduling Effect"
   ]
  },
  {
   "cell_type": "code",
   "execution_count": 74,
   "metadata": {},
   "outputs": [
    {
     "data": {
      "text/plain": [
       "<matplotlib.lines.Line2D at 0x7f16a98d3f28>"
      ]
     },
     "execution_count": 74,
     "metadata": {},
     "output_type": "execute_result"
    },
    {
     "data": {
      "image/png": "[encoded data removed]",
      "text/plain": [
       "<Figure size 432x288 with 1 Axes>"
      ]
     },
     "metadata": {
      "needs_background": "light"
     },
     "output_type": "display_data"
    }
   ],
   "source": [
    "# Here we examine the speedups of a fused bitserial squeezenet with various optimizations applied.\n",
    "baseline = 719.9\n",
    "no_schedule = 4604.4\n",
    "fully_optimized = 67.6\n",
    "# Speedups. Note that popcount here means using an instruction that utilizes the full SIMD register size on rpi.\n",
    "parallel = 3\n",
    "vectorize = 1.5\n",
    "popcount = 6.3\n",
    "tile = 1.25\n",
    "autotune = 2.0\n",
    "\n",
    "# Relative runtime\n",
    "unopt_rel = baseline / no_schedule\n",
    "tile_rel = (unopt_rel * tile * autotune)\n",
    "vectorize_rel = tile_rel * vectorize\n",
    "parallel_rel = vectorize_rel * parallel\n",
    "popcount_rel = parallel_rel * popcount\n",
    "\n",
    "names = ['Unoptimized', 'Tiling', 'Vectorize', 'Parallel', 'SIMD']\n",
    "rel_speedup = [unopt_rel, tile_rel, vectorize_rel, parallel_rel, popcount_rel]\n",
    "fast = [r > 1.0 for r in rel_speedup]\n",
    "fast = ['green' if r else 'red' for r in fast]\n",
    "\n",
    "sched_df = pd.DataFrame({'Optimization': names, 'Relative Speedup': rel_speedup, 'Fast': fast})\n",
    "\n",
    "g = sns.barplot(x='Optimization', y='Relative Speedup', data=sched_df, palette=fast)\n",
    "\n",
    "g.axhline(y=1.0, color='red')"
   ]
  },
  {
   "cell_type": "code",
   "execution_count": 75,
   "metadata": {},
   "outputs": [],
   "source": [
    "g.get_figure().savefig('/data/jwfromm/sched_speed.png', dpi=900)"
   ]
  },
  {
   "cell_type": "markdown",
   "metadata": {},
   "source": [
    "# Bitwidth runtime"
   ]
  },
  {
   "cell_type": "code",
   "execution_count": 97,
   "metadata": {},
   "outputs": [],
   "source": [
    "# This figure is just a per layer runtime with 1, 2, and 3 bit activations. Nothing fancy.(all unipolar)\n",
    "onebit = [9.9, \n",
    "          sum([3.28, 1.88, 4.04]),\n",
    "          sum([2.89, 1.03, 4.02]), \n",
    "          sum([3.95, 1.37, 8.8]), \n",
    "          sum([1.11, .38, 2.0]), \n",
    "          sum([1.34, .65, 3.24]), \n",
    "          sum([2.18, .62, 3.14]),\n",
    "          sum([4.2, 1.49, 4.04]),\n",
    "          sum([.72, .20, 1.07])]\n",
    "\n",
    "twobit = [10.5, \n",
    "          sum([4.51, 1.84, 8.12]),\n",
    "          sum([3.54, 1.76, 8.18]),\n",
    "          sum([6.59, 3.58, 19.4]),\n",
    "          sum([1.87, .68, 3.87]),\n",
    "          sum([2.02, 1.08, 5.9]),\n",
    "          sum([2.08, 1.09, 6.0]),\n",
    "          sum([2.07, 1.25, 7.82]),\n",
    "          sum([1.0, .33, 2.05])]\n",
    "\n",
    "threebit = [10.74, \n",
    "            sum([5.97, 2.22, 11.69]),\n",
    "            sum([4.74, 2.23, 11.7]),\n",
    "            sum([4.74, 3.49, 22.44]),\n",
    "            sum([2.37, .91, 5.68]),\n",
    "            sum([2.97, 1.41, 8.89]),\n",
    "            sum([4.0, 1.37, 8.55]),\n",
    "            sum([3.99, 1.7, 11.14]),\n",
    "            sum([1.29, .46, 2.85])]\n",
    "\n",
    "layer_index = range(len(onebit))\n",
    "\n",
    "one_df = pd.DataFrame({'Runtime (ms)': onebit, 'Layer': layer_index, 'Quantization': '1A1W'})\n",
    "two_df = pd.DataFrame({'Runtime (ms)': twobit, 'Layer': layer_index, 'Quantization': '2A1W'})\n",
    "three_df = pd.DataFrame({'Runtime (ms)': threebit, 'Layer': layer_index, 'Quantization': '3A1W'})\n",
    "\n",
    "merge_df = pd.concat([one_df, two_df, three_df])"
   ]
  },
  {
   "cell_type": "code",
   "execution_count": 101,
   "metadata": {},
   "outputs": [
    {
     "data": {
      "image/png": "[encoded data removed]",
      "text/plain": [
       "<Figure size 432x288 with 1 Axes>"
      ]
     },
     "metadata": {
      "needs_background": "light"
     },
     "output_type": "display_data"
    }
   ],
   "source": [
    "g = sns.barplot(x='Layer', y='Runtime (ms)', hue='Quantization', data=merge_df)"
   ]
  },
  {
   "cell_type": "code",
   "execution_count": 102,
   "metadata": {},
   "outputs": [],
   "source": [
    "g.get_figure().savefig('/data/jwfromm/quant_layer_speed.png', dpi=900)"
   ]
  },
  {
   "cell_type": "code",
   "execution_count": 103,
   "metadata": {},
   "outputs": [],
   "source": [
    "baseline = [10.5,\n",
    "            sum([8.08, 5.13, 21.79]),\n",
    "            sum([10.9, 5.11, 21.79]),\n",
    "            sum([11.73, 17.35, 104.53]),\n",
    "            sum([5.21, 30.7, 28.4]),\n",
    "            sum([9.03, 8.5, 87.67]),\n",
    "            sum([13.84, 8.77, 88.12]),\n",
    "            sum([13.8, 11.22, 115.25]),\n",
    "            sum([4.93, 3.26, 23.2])]\n",
    "\n",
    "one_df = pd.DataFrame({'Relative Speedup': np.asarray(baseline) / np.asarray(onebit), 'Layer': layer_index, 'Quantization': '1A1W'})\n",
    "two_df = pd.DataFrame({'Relative Speedup': np.asarray(baseline) / np.asarray(twobit), 'Layer': layer_index, 'Quantization': '2A1W'})\n",
    "three_df = pd.DataFrame({'Relative Speedup': np.asarray(baseline) / np.asarray(threebit), 'Layer': layer_index, 'Quantization': '3A1W'})\n",
    "baseline_df = pd.DataFrame({'Relative Speedup': np.asarray(baseline) / np.asarray(baseline), 'Layer': layer_index, 'Quantization': 'FP32'})\n",
    "\n",
    "merge_df = pd.concat([one_df, two_df, three_df, baseline_df])"
   ]
  },
  {
   "cell_type": "code",
   "execution_count": 105,
   "metadata": {},
   "outputs": [
    {
     "data": {
      "image/png": "[encoded data removed]",
      "text/plain": [
       "<Figure size 432x288 with 1 Axes>"
      ]
     },
     "metadata": {
      "needs_background": "light"
     },
     "output_type": "display_data"
    }
   ],
   "source": [
    "g = sns.barplot(x='Layer', y='Relative Speedup', hue='Quantization', data=merge_df)"
   ]
  },
  {
   "cell_type": "code",
   "execution_count": 106,
   "metadata": {},
   "outputs": [],
   "source": [
    "g.get_figure().savefig('/data/jwfromm/quant_layer_rel.png', dpi=900)"
   ]
  },
  {
   "cell_type": "markdown",
   "metadata": {},
   "source": [
    "# Shiftnorm Fusion"
   ]
  },
  {
   "cell_type": "code",
   "execution_count": 111,
   "metadata": {},
   "outputs": [],
   "source": [
    "# In this figure we compare the runtime of squeezenet when shiftnorm is fused into the preceding convolution (giving memory benefits)\n",
    "# and wehen its left unfused. (unipolar)\n",
    "\n",
    "onebit_fused = 67.6\n",
    "twobit_fused = 111.9\n",
    "threebit_fused = 155.1\n",
    "\n",
    "onebit_unfused = 86.04\n",
    "twobit_unfused = 122.6\n",
    "threebit_unfused = 158.8\n",
    "\n",
    "fused = [onebit_fused, twobit_fused, threebit_fused]\n",
    "unfused = [onebit_unfused, twobit_unfused, threebit_unfused]\n",
    "names = [\"1A1W\", \"2A1W\", \"3A1W\"]\n",
    "\n",
    "fused_df = pd.DataFrame({\"Runtime (ms)\": fused, \"Quantization\": names, \"Type\": \"Fused\"})\n",
    "unfused_df = pd.DataFrame({\"Runtime (ms)\": unfused, \"Quantization\": names, \"Type\": \"Unfused\"})\n",
    "\n",
    "merged_df = pd.concat([fused_df, unfused_df])"
   ]
  },
  {
   "cell_type": "code",
   "execution_count": 112,
   "metadata": {},
   "outputs": [
    {
     "data": {
      "text/plain": [
       "<matplotlib.legend.Legend at 0x7f16aa266898>"
      ]
     },
     "execution_count": 112,
     "metadata": {},
     "output_type": "execute_result"
    },
    {
     "data": {
      "image/png": "[encoded data removed]",
      "text/plain": [
       "<Figure size 432x288 with 1 Axes>"
      ]
     },
     "metadata": {
      "needs_background": "light"
     },
     "output_type": "display_data"
    }
   ],
   "source": [
    "g = sns.barplot(x=\"Quantization\", y=\"Runtime (ms)\", hue=\"Type\", data=merged_df)\n",
    "g.legend(title=\"\")"
   ]
  },
  {
   "cell_type": "code",
   "execution_count": 113,
   "metadata": {},
   "outputs": [],
   "source": [
    "g.get_figure().savefig('/data/jwfromm/shiftnorm_fusion.png', dpi=900)"
   ]
  },
  {
   "cell_type": "code",
   "execution_count": null,
   "metadata": {},
   "outputs": [],
   "source": []
  }
 ],
 "metadata": {
  "kernelspec": {
   "display_name": "Python 3",
   "language": "python",
   "name": "python3"
  },
  "language_info": {
   "codemirror_mode": {
    "name": "ipython",
    "version": 3
   },
   "file_extension": ".py",
   "mimetype": "text/x-python",
   "name": "python",
   "nbconvert_exporter": "python",
   "pygments_lexer": "ipython3",
   "version": "3.6.7"
  }
 },
 "nbformat": 4,
 "nbformat_minor": 2
}
