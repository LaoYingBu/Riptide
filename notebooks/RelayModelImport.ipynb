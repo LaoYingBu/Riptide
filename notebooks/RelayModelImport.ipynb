{
 "cells": [
  {
   "cell_type": "code",
   "execution_count": 1,
   "metadata": {},
   "outputs": [],
   "source": [
    "import os\n",
    "import tensorflow as tf\n",
    "import numpy as np\n",
    "import tvm\n",
    "import tvm.relay as relay\n",
    "import tvm.contrib.graph_runtime as runtime\n",
    "from tvm.relay.expr_functor import ExprMutator\n",
    "from riptide.get_models import get_model\n",
    "from riptide.binary.binary_layers import Config, DQuantize, XQuantize"
   ]
  },
  {
   "cell_type": "code",
   "execution_count": 2,
   "metadata": {},
   "outputs": [],
   "source": [
    "os.environ[\"CUDA_VISIBLE_DEVICES\"] = '1'"
   ]
  },
  {
   "cell_type": "code",
   "execution_count": 8,
   "metadata": {},
   "outputs": [],
   "source": [
    "config = Config(actQ=DQuantize, weightQ=XQuantize, bits=2, use_act=False, use_bn=False, use_maxpool=True)"
   ]
  },
  {
   "cell_type": "code",
   "execution_count": 9,
   "metadata": {},
   "outputs": [],
   "source": [
    "with config:\n",
    "    model = get_model('vggnet')\n",
    "#model = tf.keras.models.Sequential()\n",
    "#model.add(tf.keras.layers.Conv2D(filters=96, strides=2, padding='same', kernel_size=7, use_bias=False, data_format='channels_last'))\n",
    "#model.add(tf.keras.layers.BatchNormalization(center=False, scale=False))"
   ]
  },
  {
   "cell_type": "code",
   "execution_count": 10,
   "metadata": {},
   "outputs": [],
   "source": [
    "test_input = tf.keras.Input(shape=[32, 32, 3], batch_size=1, dtype='float32')\n",
    "output = model(test_input)"
   ]
  },
  {
   "cell_type": "code",
   "execution_count": 11,
   "metadata": {},
   "outputs": [],
   "source": [
    "func, params = relay.frontend.from_keras(model, shape={'input_1': [1, 32, 32, 3]})"
   ]
  },
  {
   "cell_type": "code",
   "execution_count": 12,
   "metadata": {},
   "outputs": [
    {
     "name": "stderr",
     "output_type": "stream",
     "text": [
      "W0610 04:21:24.722153 140568053081920 dispatcher.py:381] Cannot find config for target=llvm, workload=('bitserial_conv2d_nchw', (1, 512, 2, 2, 'int16'), (512, 512, 3, 3, 'int16'), (1, 1), (1, 1), 2, 1, 'uint32', 'int16', 1). A fallback configuration is used, which may bring great performance regression.\n",
      "W0610 04:21:24.783376 140568053081920 dispatcher.py:381] Cannot find config for target=llvm, workload=('bitserial_conv2d_nchw', (1, 512, 4, 4, 'int16'), (512, 512, 3, 3, 'int16'), (1, 1), (1, 1), 2, 1, 'uint32', 'int16', 1). A fallback configuration is used, which may bring great performance regression.\n",
      "W0610 04:21:24.840718 140568053081920 dispatcher.py:381] Cannot find config for target=llvm, workload=('bitserial_conv2d_nchw', (1, 256, 4, 4, 'int16'), (512, 256, 3, 3, 'int16'), (1, 1), (1, 1), 2, 1, 'uint32', 'int16', 1). A fallback configuration is used, which may bring great performance regression.\n",
      "W0610 04:21:24.898673 140568053081920 dispatcher.py:381] Cannot find config for target=llvm, workload=('bitserial_conv2d_nchw', (1, 256, 8, 8, 'int16'), (256, 256, 3, 3, 'int16'), (1, 1), (1, 1), 2, 1, 'uint32', 'int16', 1). A fallback configuration is used, which may bring great performance regression.\n"
     ]
    },
    {
     "name": "stdout",
     "output_type": "stream",
     "text": [
      "2\n",
      "2\n",
      "2\n",
      "2\n"
     ]
    },
    {
     "name": "stderr",
     "output_type": "stream",
     "text": [
      "W0610 04:21:24.957203 140568053081920 dispatcher.py:381] Cannot find config for target=llvm, workload=('bitserial_conv2d_nchw', (1, 96, 8, 8, 'int16'), (256, 96, 3, 3, 'int16'), (1, 1), (1, 1), 2, 1, 'uint32', 'int16', 1). A fallback configuration is used, which may bring great performance regression.\n"
     ]
    },
    {
     "name": "stdout",
     "output_type": "stream",
     "text": [
      "2\n"
     ]
    }
   ],
   "source": [
    "with relay.build_config(opt_level=0):\n",
    "    #graph, lib, params = relay.build(func, 'llvm', params=params)\n",
    "    graph, lib, params = relay.build_module.build(func, target='llvm', params=params)\n",
    "    #out = intrp.evaluate(func)(np.random.uniform(size=(1, 3, 28, 28)))"
   ]
  },
  {
   "cell_type": "code",
   "execution_count": 8,
   "metadata": {},
   "outputs": [],
   "source": [
    "module = runtime.create(graph, lib, tvm.context('llvm', 0))\n",
    "module.set_input('input_1', np.random.uniform(size=(1, 3, 32, 32)))\n",
    "module.set_input(**params)"
   ]
  },
  {
   "cell_type": "code",
   "execution_count": 9,
   "metadata": {},
   "outputs": [
    {
     "name": "stdout",
     "output_type": "stream",
     "text": [
      "(1, 1000)\n"
     ]
    }
   ],
   "source": [
    "module.run()\n",
    "print(module.get_output(0).shape)"
   ]
  },
  {
   "cell_type": "code",
   "execution_count": null,
   "metadata": {},
   "outputs": [],
   "source": []
  }
 ],
 "metadata": {
  "kernelspec": {
   "display_name": "Python 3",
   "language": "python",
   "name": "python3"
  },
  "language_info": {
   "codemirror_mode": {
    "name": "ipython",
    "version": 3
   },
   "file_extension": ".py",
   "mimetype": "text/x-python",
   "name": "python",
   "nbconvert_exporter": "python",
   "pygments_lexer": "ipython3",
   "version": "3.6.7"
  }
 },
 "nbformat": 4,
 "nbformat_minor": 2
}
