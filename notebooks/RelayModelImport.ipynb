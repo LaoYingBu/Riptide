{
 "cells": [
  {
   "cell_type": "code",
   "execution_count": 1,
   "metadata": {},
   "outputs": [],
   "source": [
    "import os\n",
    "import tensorflow as tf\n",
    "import numpy as np\n",
    "import tvm\n",
    "import tvm.relay as relay\n",
    "from riptide.get_models import get_model\n",
    "from riptide.binary.binary_layers import Config, DQuantize, XQuantize"
   ]
  },
  {
   "cell_type": "code",
   "execution_count": 2,
   "metadata": {},
   "outputs": [],
   "source": [
    "os.environ[\"CUDA_VISIBLE_DEVICES\"] = '1'"
   ]
  },
  {
   "cell_type": "code",
   "execution_count": 3,
   "metadata": {},
   "outputs": [],
   "source": [
    "config = Config(actQ=DQuantize, weightQ=XQuantize, bits=1, use_act=False, use_bn=False, use_maxpool=True)"
   ]
  },
  {
   "cell_type": "code",
   "execution_count": 4,
   "metadata": {},
   "outputs": [],
   "source": [
    "with config:\n",
    "    model = get_model('vggnet')"
   ]
  },
  {
   "cell_type": "code",
   "execution_count": 5,
   "metadata": {},
   "outputs": [
    {
     "name": "stderr",
     "output_type": "stream",
     "text": [
      "WARNING: Logging before flag parsing goes to stderr.\n",
      "W0603 03:49:53.878260 140550309254976 deprecation.py:323] From /home/Riptide/riptide/binary/binary_layers.py:526: _colocate_with (from tensorflow.python.framework.ops) is deprecated and will be removed in a future version.\n",
      "Instructions for updating:\n",
      "Colocations handled automatically by placer.\n"
     ]
    }
   ],
   "source": [
    "test_input = tf.keras.Input(shape=[32, 32, 3], dtype='float32')\n",
    "output = model(test_input)"
   ]
  },
  {
   "cell_type": "code",
   "execution_count": 6,
   "metadata": {},
   "outputs": [
    {
     "name": "stdout",
     "output_type": "stream",
     "text": [
      "v0.0.1\n",
      "free_var %input_1\n",
      "%0 = nn.pad(%input_1, pad_width=[[0, 0], [0, 0], [2, 3], [2, 3]])\n",
      "free_var %v_param_1: Tensor[(96, 3, 7, 7), float32]\n",
      "%1 = nn.conv2d(%0, %v_param_1, strides=[2, 2], channels=96, kernel_size=[7, 7])\n",
      "%2 = nn.max_pool2d(%1, pool_size=[2, 2], strides=[2, 2])\n",
      "free_var %v_param_2: Tensor[(96,), float32]\n",
      "free_var %v_param_3: Tensor[(96,), float32]\n",
      "%3 = nn.batch_norm(%2, 1f, 0f, %v_param_2, %v_param_3, epsilon=0.001, center=False, scale=False)\n",
      "%4 = %3.0\n",
      "%5 = multiply(%4, 1f)\n",
      "%6 = clip(%5, a_min=0, a_max=1)\n",
      "%7 = multiply(1f, %6)\n",
      "round(%7)\n"
     ]
    },
    {
     "ename": "OpNotImplemented",
     "evalue": "Operator BinaryConv2D is not supported for frontend Keras.",
     "output_type": "error",
     "traceback": [
      "\u001b[0;31m---------------------------------------------------------------------------\u001b[0m",
      "\u001b[0;31mOpNotImplemented\u001b[0m                          Traceback (most recent call last)",
      "\u001b[0;32m<ipython-input-6-23be8473d7cd>\u001b[0m in \u001b[0;36m<module>\u001b[0;34m\u001b[0m\n\u001b[0;32m----> 1\u001b[0;31m \u001b[0mfunc\u001b[0m\u001b[0;34m,\u001b[0m \u001b[0mparams\u001b[0m \u001b[0;34m=\u001b[0m \u001b[0mrelay\u001b[0m\u001b[0;34m.\u001b[0m\u001b[0mfrontend\u001b[0m\u001b[0;34m.\u001b[0m\u001b[0mfrom_keras\u001b[0m\u001b[0;34m(\u001b[0m\u001b[0mmodel\u001b[0m\u001b[0;34m)\u001b[0m\u001b[0;34m\u001b[0m\u001b[0;34m\u001b[0m\u001b[0m\n\u001b[0m",
      "\u001b[0;32m~/tvm/python/tvm/relay/frontend/keras.py\u001b[0m in \u001b[0;36mfrom_keras\u001b[0;34m(model, shape)\u001b[0m\n\u001b[1;32m    761\u001b[0m                 \u001b[0;32mif\u001b[0m \u001b[0mlen\u001b[0m\u001b[0;34m(\u001b[0m\u001b[0minexpr\u001b[0m\u001b[0;34m)\u001b[0m \u001b[0;34m==\u001b[0m \u001b[0;36m1\u001b[0m\u001b[0;34m:\u001b[0m\u001b[0;34m\u001b[0m\u001b[0;34m\u001b[0m\u001b[0m\n\u001b[1;32m    762\u001b[0m                     \u001b[0minexpr\u001b[0m \u001b[0;34m=\u001b[0m \u001b[0minexpr\u001b[0m\u001b[0;34m[\u001b[0m\u001b[0;36m0\u001b[0m\u001b[0;34m]\u001b[0m\u001b[0;34m\u001b[0m\u001b[0;34m\u001b[0m\u001b[0m\n\u001b[0;32m--> 763\u001b[0;31m                 \u001b[0mkeras_op_to_relay\u001b[0m\u001b[0;34m(\u001b[0m\u001b[0minexpr\u001b[0m\u001b[0;34m,\u001b[0m \u001b[0mkeras_layer\u001b[0m\u001b[0;34m,\u001b[0m \u001b[0mkeras_layer\u001b[0m\u001b[0;34m.\u001b[0m\u001b[0mname\u001b[0m \u001b[0;34m+\u001b[0m \u001b[0;34m':'\u001b[0m \u001b[0;34m+\u001b[0m \u001b[0mstr\u001b[0m\u001b[0;34m(\u001b[0m\u001b[0mnode_idx\u001b[0m\u001b[0;34m)\u001b[0m\u001b[0;34m,\u001b[0m \u001b[0metab\u001b[0m\u001b[0;34m)\u001b[0m\u001b[0;34m\u001b[0m\u001b[0;34m\u001b[0m\u001b[0m\n\u001b[0m\u001b[1;32m    764\u001b[0m     \u001b[0;31m# model._output_coordinates contains out_node(oc[0]), node_index(oc[1]) and tensor_index(oc[2])\u001b[0m\u001b[0;34m\u001b[0m\u001b[0;34m\u001b[0m\u001b[0;34m\u001b[0m\u001b[0m\n\u001b[1;32m    765\u001b[0m     \u001b[0;31m# Get all output nodes in etab using the name made from above values.\u001b[0m\u001b[0;34m\u001b[0m\u001b[0;34m\u001b[0m\u001b[0;34m\u001b[0m\u001b[0m\n",
      "\u001b[0;32m~/tvm/python/tvm/relay/frontend/keras.py\u001b[0m in \u001b[0;36mkeras_op_to_relay\u001b[0;34m(inexpr, keras_layer, outname, etab)\u001b[0m\n\u001b[1;32m    679\u001b[0m     \u001b[0;32mif\u001b[0m \u001b[0mop_name\u001b[0m \u001b[0;32mnot\u001b[0m \u001b[0;32min\u001b[0m \u001b[0m_convert_map\u001b[0m\u001b[0;34m:\u001b[0m\u001b[0;34m\u001b[0m\u001b[0;34m\u001b[0m\u001b[0m\n\u001b[1;32m    680\u001b[0m         raise tvm.error.OpNotImplemented(\n\u001b[0;32m--> 681\u001b[0;31m             'Operator {} is not supported for frontend Keras.'.format(op_name))\n\u001b[0m\u001b[1;32m    682\u001b[0m     \u001b[0mouts\u001b[0m \u001b[0;34m=\u001b[0m \u001b[0m_convert_map\u001b[0m\u001b[0;34m[\u001b[0m\u001b[0mop_name\u001b[0m\u001b[0;34m]\u001b[0m\u001b[0;34m(\u001b[0m\u001b[0minexpr\u001b[0m\u001b[0;34m,\u001b[0m \u001b[0mkeras_layer\u001b[0m\u001b[0;34m,\u001b[0m \u001b[0metab\u001b[0m\u001b[0;34m)\u001b[0m\u001b[0;34m\u001b[0m\u001b[0;34m\u001b[0m\u001b[0m\n\u001b[1;32m    683\u001b[0m     \u001b[0mouts\u001b[0m \u001b[0;34m=\u001b[0m \u001b[0m_as_list\u001b[0m\u001b[0;34m(\u001b[0m\u001b[0mouts\u001b[0m\u001b[0;34m)\u001b[0m\u001b[0;34m\u001b[0m\u001b[0;34m\u001b[0m\u001b[0m\n",
      "\u001b[0;31mOpNotImplemented\u001b[0m: Operator BinaryConv2D is not supported for frontend Keras."
     ]
    }
   ],
   "source": [
    "func, params = relay.frontend.from_keras(model)"
   ]
  },
  {
   "cell_type": "code",
   "execution_count": 9,
   "metadata": {},
   "outputs": [
    {
     "data": {
      "text/plain": [
       "0"
      ]
     },
     "execution_count": 9,
     "metadata": {},
     "output_type": "execute_result"
    }
   ],
   "source": [
    "model.layers[0].inbound_nodes[0].node_indices"
   ]
  },
  {
   "cell_type": "code",
   "execution_count": 7,
   "metadata": {},
   "outputs": [
    {
     "name": "stdout",
     "output_type": "stream",
     "text": [
      "Model: \"vggnet\"\n",
      "_________________________________________________________________\n",
      "Layer (type)                 Output Shape              Param #   \n",
      "=================================================================\n",
      "conv2d (Conv2D)              (None, 16, 16, 96)        14112     \n",
      "_________________________________________________________________\n",
      "max_pooling2d (MaxPooling2D) (None, 8, 8, 96)          0         \n",
      "_________________________________________________________________\n",
      "batch_normalization_v2 (Batc (None, 8, 8, 96)          192       \n",
      "_________________________________________________________________\n",
      "enter_integer (EnterInteger) (None, 8, 8, 96)          0         \n",
      "_________________________________________________________________\n",
      "binary_conv2d (BinaryConv2D) (None, 8, 8, 256)         221184    \n",
      "_________________________________________________________________\n",
      "shift_normalization (ShiftNo (None, 8, 8, 256)         512       \n",
      "_________________________________________________________________\n",
      "binary_conv2d_1 (BinaryConv2 (None, 8, 8, 256)         589824    \n",
      "_________________________________________________________________\n",
      "shift_normalization_1 (Shift (None, 8, 8, 256)         512       \n",
      "_________________________________________________________________\n",
      "binary_conv2d_2 (BinaryConv2 (None, 8, 8, 256)         589824    \n",
      "_________________________________________________________________\n",
      "max_pooling2d_1 (MaxPooling2 (None, 4, 4, 256)         0         \n",
      "_________________________________________________________________\n",
      "shift_normalization_2 (Shift (None, 4, 4, 256)         512       \n",
      "_________________________________________________________________\n",
      "binary_conv2d_3 (BinaryConv2 (None, 4, 4, 512)         1179648   \n",
      "_________________________________________________________________\n",
      "shift_normalization_3 (Shift (None, 4, 4, 512)         1024      \n",
      "_________________________________________________________________\n",
      "binary_conv2d_4 (BinaryConv2 (None, 4, 4, 512)         2359296   \n",
      "_________________________________________________________________\n",
      "shift_normalization_4 (Shift (None, 4, 4, 512)         1024      \n",
      "_________________________________________________________________\n",
      "binary_conv2d_5 (BinaryConv2 (None, 4, 4, 512)         2359296   \n",
      "_________________________________________________________________\n",
      "max_pooling2d_2 (MaxPooling2 (None, 2, 2, 512)         0         \n",
      "_________________________________________________________________\n",
      "shift_normalization_5 (Shift (None, 2, 2, 512)         1024      \n",
      "_________________________________________________________________\n",
      "binary_conv2d_6 (BinaryConv2 (None, 2, 2, 512)         2359296   \n",
      "_________________________________________________________________\n",
      "shift_normalization_6 (Shift (None, 2, 2, 512)         1024      \n",
      "_________________________________________________________________\n",
      "binary_conv2d_7 (BinaryConv2 (None, 2, 2, 512)         2359296   \n",
      "_________________________________________________________________\n",
      "shift_normalization_7 (Shift (None, 2, 2, 512)         1024      \n",
      "_________________________________________________________________\n",
      "binary_conv2d_8 (BinaryConv2 (None, 2, 2, 512)         2359296   \n",
      "_________________________________________________________________\n",
      "max_pooling2d_3 (MaxPooling2 (None, 1, 1, 512)         0         \n",
      "_________________________________________________________________\n",
      "shift_normalization_8 (Shift (None, 1, 1, 512)         1024      \n",
      "_________________________________________________________________\n",
      "flatten (Flatten)            (None, 512)               0         \n",
      "_________________________________________________________________\n",
      "binary_dense (BinaryDense)   (None, 4096)              2097152   \n",
      "_________________________________________________________________\n",
      "shift_normalization_9 (Shift (None, 4096)              2         \n",
      "_________________________________________________________________\n",
      "binary_dense_1 (BinaryDense) (None, 4096)              16777216  \n",
      "_________________________________________________________________\n",
      "shift_normalization_10 (Shif (None, 4096)              2         \n",
      "_________________________________________________________________\n",
      "binary_dense_2 (BinaryDense) (None, 1000)              4096000   \n",
      "_________________________________________________________________\n",
      "scalu (Scalu)                (None, 1000)              1         \n",
      "_________________________________________________________________\n",
      "activation (Activation)      (None, 1000)              0         \n",
      "=================================================================\n",
      "Total params: 37,369,317\n",
      "Trainable params: 37,361,441\n",
      "Non-trainable params: 7,876\n",
      "_________________________________________________________________\n"
     ]
    }
   ],
   "source": [
    "model.summary()"
   ]
  },
  {
   "cell_type": "code",
   "execution_count": null,
   "metadata": {},
   "outputs": [],
   "source": []
  }
 ],
 "metadata": {
  "kernelspec": {
   "display_name": "Python 3",
   "language": "python",
   "name": "python3"
  },
  "language_info": {
   "codemirror_mode": {
    "name": "ipython",
    "version": 3
   },
   "file_extension": ".py",
   "mimetype": "text/x-python",
   "name": "python",
   "nbconvert_exporter": "python",
   "pygments_lexer": "ipython3",
   "version": "3.6.7"
  }
 },
 "nbformat": 4,
 "nbformat_minor": 2
}
