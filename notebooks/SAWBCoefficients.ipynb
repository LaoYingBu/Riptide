{
 "cells": [
  {
   "cell_type": "code",
   "execution_count": 1,
   "metadata": {},
   "outputs": [],
   "source": [
    "import tensorflow as tf\n",
    "import tensorflow_probability as tfp\n",
    "import numpy as np\n",
    "tfd = tfp.distributions\n",
    "import matplotlib.pyplot as plt\n",
    "%matplotlib inline\n",
    "tf.enable_eager_execution()"
   ]
  },
  {
   "cell_type": "code",
   "execution_count": 2,
   "metadata": {},
   "outputs": [],
   "source": [
    "@tf.custom_gradient\n",
    "def SAWBQuantize(x, alpha, bits):\n",
    "    # Clip between -alpha and alpha\n",
    "    clipped = tf.clip_by_value(x, -alpha, alpha)\n",
    "    # Rescale to [0, alpha]\n",
    "    scaled = (clipped + alpha) / 2.\n",
    "    # Quantize.\n",
    "    quantized = tf.round(scaled * ((2.**bits - 1.) / alpha)) * (alpha / (2.**bits - 1.))\n",
    "    # Rescale to negative range.\n",
    "    output = (2 * quantized) - alpha\n",
    "    \n",
    "    def grad_fn(dy):\n",
    "        x_mask = tf.cast(tf.abs(x) <= alpha, tf.float32)\n",
    "        x_grad = dy * x_mask\n",
    "        return [x_grad, None, None]\n",
    "    return output, grad_fn"
   ]
  },
  {
   "cell_type": "code",
   "execution_count": 3,
   "metadata": {},
   "outputs": [],
   "source": [
    "normal = tfd.Normal(0., 1.)\n",
    "vonmise = tfd.VonMises(0., 4.)\n",
    "logistic = tfd.Logistic(0., 1.)\n",
    "uniform = tfd.Uniform(-1., 1.)\n",
    "laplace = tfd.Laplace(0., 1.)\n",
    "triangle = tfd.Triangular(-2., 0., 2.)\n",
    "\n",
    "distributions = [normal, vonmise, logistic, uniform, laplace, triangle]"
   ]
  },
  {
   "cell_type": "code",
   "execution_count": 11,
   "metadata": {},
   "outputs": [],
   "source": [
    "alpha_candidates = tf.range(0.1, 10., delta=0.01)\n",
    "bits = 4"
   ]
  },
  {
   "cell_type": "code",
   "execution_count": 12,
   "metadata": {},
   "outputs": [],
   "source": [
    "results = []\n",
    "for dist in distributions:\n",
    "    samples = dist.sample([100000])\n",
    "    best_mse = np.inf\n",
    "    best_alpha = None\n",
    "\n",
    "    for alpha in alpha_candidates:        \n",
    "        q_samples = SAWBQuantize(samples, alpha, bits)\n",
    "        mse = tf.reduce_mean((q_samples - samples)**2)\n",
    "        #print('alpha: ', alpha.numpy(), 'mse: ', mse.numpy())\n",
    "        if mse < best_mse:\n",
    "            best_mse = mse\n",
    "            best_alpha = alpha\n",
    "            \n",
    "    #results.append([dist.name, best_alpha, tf.sqrt(tf.reduce_mean(samples**2)), tf.reduce_mean(tf.abs(samples))])\n",
    "    results.append([best_alpha.numpy() / np.mean(np.abs(samples)), np.sqrt(np.mean(samples**2))/np.mean(np.abs(samples))])\n",
    "results = np.asarray(results)    "
   ]
  },
  {
   "cell_type": "code",
   "execution_count": 13,
   "metadata": {},
   "outputs": [],
   "source": [
    "features = results[:,0].reshape(-1, 1)\n",
    "labels = results[:,1]"
   ]
  },
  {
   "cell_type": "code",
   "execution_count": 14,
   "metadata": {},
   "outputs": [
    {
     "data": {
      "text/plain": [
       "LinearRegression(copy_X=True, fit_intercept=True, n_jobs=None,\n",
       "         normalize=False)"
      ]
     },
     "execution_count": 14,
     "metadata": {},
     "output_type": "execute_result"
    }
   ],
   "source": [
    "from sklearn import linear_model\n",
    "regr = linear_model.LinearRegression()\n",
    "regr.fit(features, labels)"
   ]
  },
  {
   "cell_type": "code",
   "execution_count": 15,
   "metadata": {},
   "outputs": [
    {
     "name": "stdout",
     "output_type": "stream",
     "text": [
      "[0.08428358]\n",
      "0.98446715\n"
     ]
    }
   ],
   "source": [
    "print(regr.coef_)\n",
    "print(regr.intercept_)"
   ]
  },
  {
   "cell_type": "code",
   "execution_count": 16,
   "metadata": {},
   "outputs": [
    {
     "data": {
      "image/png": "[encoded data removed]",
      "text/plain": [
       "<Figure size 432x288 with 1 Axes>"
      ]
     },
     "metadata": {
      "needs_background": "light"
     },
     "output_type": "display_data"
    }
   ],
   "source": [
    "line_x = np.linspace(1.5, np.max(features))\n",
    "line_y = regr.coef_[0]*line_x + regr.intercept_\n",
    "plt.plot(results[:,0], results[:,1], 'x')\n",
    "plt.plot(line_x, line_y)\n",
    "plt.show()"
   ]
  },
  {
   "cell_type": "markdown",
   "metadata": {},
   "source": [
    "e2 / e1 = c * a/e1 + i\n",
    "\n",
    "e2/e1 - i = c * a/e1\n",
    "\n",
    "e2 - i*e1 = c*a\n",
    "\n",
    "e2/c - i/c*e1 = a"
   ]
  },
  {
   "cell_type": "code",
   "execution_count": 17,
   "metadata": {},
   "outputs": [
    {
     "name": "stdout",
     "output_type": "stream",
     "text": [
      "c1:  11.864706814701913\n",
      "c2:  -11.680414\n"
     ]
    }
   ],
   "source": [
    "c1 = 1/regr.coef_[0]\n",
    "c2 = -regr.intercept_ / regr.coef_[0]\n",
    "print('c1: ', c1)\n",
    "print('c2: ', c2)"
   ]
  },
  {
   "cell_type": "code",
   "execution_count": null,
   "metadata": {},
   "outputs": [],
   "source": []
  }
 ],
 "metadata": {
  "kernelspec": {
   "display_name": "Python 3",
   "language": "python",
   "name": "python3"
  },
  "language_info": {
   "codemirror_mode": {
    "name": "ipython",
    "version": 3
   },
   "file_extension": ".py",
   "mimetype": "text/x-python",
   "name": "python",
   "nbconvert_exporter": "python",
   "pygments_lexer": "ipython3",
   "version": "3.6.7"
  }
 },
 "nbformat": 4,
 "nbformat_minor": 2
}
