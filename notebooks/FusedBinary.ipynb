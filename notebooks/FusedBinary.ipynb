{
 "cells": [
  {
   "cell_type": "code",
   "execution_count": 1,
   "metadata": {},
   "outputs": [],
   "source": [
    "import tensorflow as tf\n",
    "import numpy as np"
   ]
  },
  {
   "cell_type": "code",
   "execution_count": 46,
   "metadata": {},
   "outputs": [],
   "source": [
    "def simulate_fused_binary(x, bits, shift_scale):\n",
    "    # Frequently used constant.\n",
    "    bit_constant = int((2.0**bits) - 1)\n",
    "    # Upper bound cutoff for clipping.\n",
    "    cutoff_threshold = np.left_shift(bit_constant, shift_scale)\n",
    "    # Clip activations in range.\n",
    "    x = np.clip(x, 0, cutoff_threshold)\n",
    "    # Can now compute result by taking n most significant bits\n",
    "    threshold_ap2 = np.ceil(np.log(cutoff_threshold) / np.log(2))\n",
    "    # Determine number of bits to shift to extract top n.\n",
    "    output_shift = (threshold_ap2 - bits).astype(np.int32)\n",
    "    return np.right_shift(x, output_shift)    "
   ]
  },
  {
   "cell_type": "code",
   "execution_count": 47,
   "metadata": {},
   "outputs": [],
   "source": [
    "test = np.round(24*np.random.normal(size=[2, 8])).astype(np.int32)"
   ]
  },
  {
   "cell_type": "code",
   "execution_count": 48,
   "metadata": {},
   "outputs": [],
   "source": [
    "scales = np.reshape(np.asarray([3, 2]), [2, 1])"
   ]
  },
  {
   "cell_type": "code",
   "execution_count": 49,
   "metadata": {},
   "outputs": [
    {
     "data": {
      "text/plain": [
       "array([[1, 0, 0, 0, 0, 0, 0, 0],\n",
       "       [0, 1, 0, 1, 3, 3, 1, 3]])"
      ]
     },
     "execution_count": 49,
     "metadata": {},
     "output_type": "execute_result"
    }
   ],
   "source": [
    "simulate_fused_binary(test, 2, scales)"
   ]
  },
  {
   "cell_type": "code",
   "execution_count": 50,
   "metadata": {},
   "outputs": [
    {
     "data": {
      "text/plain": [
       "array([[  9,  -3,   6, -27, -13, -33, -53, -30],\n",
       "       [ -6,   4, -34,   6,  29,  69,   6,  32]], dtype=int32)"
      ]
     },
     "execution_count": 50,
     "metadata": {},
     "output_type": "execute_result"
    }
   ],
   "source": [
    "test"
   ]
  },
  {
   "cell_type": "code",
   "execution_count": null,
   "metadata": {},
   "outputs": [],
   "source": []
  }
 ],
 "metadata": {
  "kernelspec": {
   "display_name": "Python 3",
   "language": "python",
   "name": "python3"
  },
  "language_info": {
   "codemirror_mode": {
    "name": "ipython",
    "version": 3
   },
   "file_extension": ".py",
   "mimetype": "text/x-python",
   "name": "python",
   "nbconvert_exporter": "python",
   "pygments_lexer": "ipython3",
   "version": "3.6.6"
  }
 },
 "nbformat": 4,
 "nbformat_minor": 2
}
